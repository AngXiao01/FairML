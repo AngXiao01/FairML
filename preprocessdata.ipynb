{
 "cells": [
  {
   "cell_type": "markdown",
   "metadata": {
    "id": "--Y5d9cKEVxu"
   },
   "source": [
    "# Import and Read Data"
   ]
  },
  {
   "cell_type": "code",
   "execution_count": null,
   "metadata": {
    "id": "OEy9ZaIJi7pP"
   },
   "outputs": [],
   "source": [
    "import numpy as np\n",
    "import pandas as pd\n",
    "import xgboost as xgb\n",
    "from xgboost import XGBClassifier\n",
    "import sys \n",
    "import os\n",
    "import time\n",
    "from copy import deepcopy\n",
    "from matplotlib.pyplot import figure\n",
    "import matplotlib.pyplot as plt\n",
    "import sklearn\n",
    "from sklearn import metrics\n",
    "from sklearn.metrics import roc_curve, auc\n",
    "from sklearn import model_selection\n",
    "from sklearn.metrics.pairwise import normalize\n",
    "from sklearn.metrics import confusion_matrix\n",
    "from sklearn.metrics import plot_confusion_matrix\n",
    "from sklearn.metrics import precision_score\n",
    "from sklearn.metrics import recall_score\n",
    "from sklearn.model_selection import train_test_split\n",
    "from sklearn.inspection import plot_partial_dependence\n",
    "import seaborn as sns"
   ]
  },
  {
   "cell_type": "code",
   "execution_count": null,
   "metadata": {
    "colab": {
     "base_uri": "https://localhost:8080/"
    },
    "executionInfo": {
     "elapsed": 1084,
     "status": "ok",
     "timestamp": 1674678873468,
     "user": {
      "displayName": "Ang Xiao",
      "userId": "05354885258099175146"
     },
     "user_tz": 300
    },
    "id": "fKxMQVYrjttT",
    "outputId": "b67189cc-2ca5-4807-be2a-05cd0ab9a98a"
   },
   "outputs": [
    {
     "name": "stdout",
     "output_type": "stream",
     "text": [
      "Drive already mounted at /content/drive; to attempt to forcibly remount, call drive.mount(\"/content/drive\", force_remount=True).\n"
     ]
    }
   ],
   "source": [
    "from google.colab import drive\n",
    "drive.mount('/content/drive')"
   ]
  },
  {
   "cell_type": "code",
   "execution_count": null,
   "metadata": {
    "id": "gfgVkV1qtQKJ"
   },
   "outputs": [],
   "source": [
    "original_data = pd.read_csv('/content/drive/MyDrive/NewFairML/data/USAll.csv',dtype=object)"
   ]
  },
  {
   "cell_type": "code",
   "execution_count": null,
   "metadata": {
    "id": "XtCuywVEkZAD"
   },
   "outputs": [],
   "source": [
    "original_overdose_data_with_original_index = pd.read_csv('/content/drive/MyDrive/NewFairML/data/USAllCnty_SelectedByICD10.csv',dtype=object)\n",
    "original_overdose_data_with_original_index.columns = ['Original_index'] + original_overdose_data_with_original_index.columns[1:].tolist()\n",
    "original_overdose_data = original_overdose_data_with_original_index.drop('Original_index',axis=1)"
   ]
  },
  {
   "cell_type": "code",
   "execution_count": null,
   "metadata": {
    "id": "qBQldmunINkv"
   },
   "outputs": [],
   "source": [
    "original_no_overdose_data = original_data[~original_data.index.isin(original_overdose_data_with_original_index['Original_index'])]"
   ]
  },
  {
   "cell_type": "code",
   "execution_count": null,
   "metadata": {
    "colab": {
     "base_uri": "https://localhost:8080/"
    },
    "executionInfo": {
     "elapsed": 9,
     "status": "ok",
     "timestamp": 1674678949922,
     "user": {
      "displayName": "Ang Xiao",
      "userId": "05354885258099175146"
     },
     "user_tz": 300
    },
    "id": "RZFdKik8ippC",
    "outputId": "88611f26-9079-4e40-e3a0-e08635514631"
   },
   "outputs": [
    {
     "data": {
      "text/plain": [
       "['General_Record_Type',\n",
       " 'General_Resident_status',\n",
       " 'General_Place_of_death_and_decedents_status',\n",
       " 'General_Day_of_week_of_death',\n",
       " 'General_Data_year',\n",
       " 'General_Manner_of_death',\n",
       " 'Occurrence_State(FIPS)',\n",
       " 'Occurrence_County(FIPS)',\n",
       " 'Occurrence_County_Population_size',\n",
       " 'Residence_State(FIPS)',\n",
       " 'Residence_County(FIPS)',\n",
       " 'Residence_Met_or_Nonmet_county',\n",
       " 'The_Decedent_Date_of_Death',\n",
       " 'The_Decedent_Sex',\n",
       " 'The_Decedent_Age',\n",
       " 'The_Decedent_Marital_status',\n",
       " 'The_Decedent_State_or_country_of_birth',\n",
       " 'The_Decedent_Education',\n",
       " 'Underlying_Cause_ICD-10_code',\n",
       " 'The_Decedent_Race_Recode_5',\n",
       " 'The_Decedent_Hispanic_Origin/Race_Recode']"
      ]
     },
     "execution_count": 33,
     "metadata": {},
     "output_type": "execute_result"
    }
   ],
   "source": [
    "category_features = [x for x in original_data.columns if original_data[x].dtype != float]\n",
    "category_features"
   ]
  },
  {
   "cell_type": "code",
   "execution_count": null,
   "metadata": {
    "colab": {
     "base_uri": "https://localhost:8080/"
    },
    "executionInfo": {
     "elapsed": 3885,
     "status": "ok",
     "timestamp": 1674678955442,
     "user": {
      "displayName": "Ang Xiao",
      "userId": "05354885258099175146"
     },
     "user_tz": 300
    },
    "id": "kyId0OiBuoPU",
    "outputId": "fe64bfda-43dc-4b5d-dfdd-6f383da994d4"
   },
   "outputs": [
    {
     "data": {
      "text/plain": [
       "2019    2833007\n",
       "2018    2817121\n",
       "2017    2789825\n",
       "2016    2718635\n",
       "2015    2686900\n",
       "2014    2600327\n",
       "2013    2570146\n",
       "2012    2516220\n",
       "2011    2487774\n",
       "2010    2439904\n",
       "Name: General_Data_year, dtype: int64"
      ]
     },
     "execution_count": 34,
     "metadata": {},
     "output_type": "execute_result"
    }
   ],
   "source": [
    "original_data[\"General_Data_year\"].value_counts()"
   ]
  },
  {
   "cell_type": "code",
   "execution_count": null,
   "metadata": {
    "colab": {
     "base_uri": "https://localhost:8080/"
    },
    "executionInfo": {
     "elapsed": 6,
     "status": "ok",
     "timestamp": 1674678955443,
     "user": {
      "displayName": "Ang Xiao",
      "userId": "05354885258099175146"
     },
     "user_tz": 300
    },
    "id": "9cqSzwPQzd7S",
    "outputId": "ada8eef4-3100-437d-bc16-ab8a4b1fc3c0"
   },
   "outputs": [
    {
     "data": {
      "text/plain": [
       "26459859"
      ]
     },
     "execution_count": 35,
     "metadata": {},
     "output_type": "execute_result"
    }
   ],
   "source": [
    "len(original_data[\"General_Data_year\"])"
   ]
  },
  {
   "cell_type": "markdown",
   "metadata": {
    "id": "kJXzf6EJQhkA"
   },
   "source": [
    "# Make the Value Interpretable"
   ]
  },
  {
   "cell_type": "code",
   "execution_count": null,
   "metadata": {
    "colab": {
     "base_uri": "https://localhost:8080/"
    },
    "executionInfo": {
     "elapsed": 110,
     "status": "ok",
     "timestamp": 1674678956637,
     "user": {
      "displayName": "Ang Xiao",
      "userId": "05354885258099175146"
     },
     "user_tz": 300
    },
    "id": "5HaR7OdjQUMW",
    "outputId": "e59a9ae6-23e6-4657-b389-72cd179597fa"
   },
   "outputs": [
    {
     "data": {
      "text/plain": [
       "1    22542289\n",
       "2     3096371\n",
       "4      641850\n",
       "3      179349\n",
       "Name: The_Decedent_Race_Recode_5, dtype: int64"
      ]
     },
     "execution_count": 36,
     "metadata": {},
     "output_type": "execute_result"
    }
   ],
   "source": [
    "original_data['The_Decedent_Race_Recode_5'].value_counts()"
   ]
  },
  {
   "cell_type": "code",
   "execution_count": null,
   "metadata": {
    "id": "CZAWZNdEv76X"
   },
   "outputs": [],
   "source": [
    "#change the value of Race to be 5+1\n",
    "#original_data\n",
    "original_data['The_Decedent_Race_Recode_5'] = np.where(original_data['The_Decedent_Hispanic_Origin/Race_Recode'].isin(['1','2','3','4','5']), '6', original_data['The_Decedent_Race_Recode_5'])"
   ]
  },
  {
   "cell_type": "code",
   "execution_count": null,
   "metadata": {
    "id": "G7FNM2tdv-81"
   },
   "outputs": [],
   "source": [
    "#original_no_overdose_data\n",
    "original_no_overdose_data['The_Decedent_Race_Recode_5'] = np.where(original_no_overdose_data['The_Decedent_Hispanic_Origin/Race_Recode'].isin(['1','2','3','4','5']), '6', original_no_overdose_data['The_Decedent_Race_Recode_5'])"
   ]
  },
  {
   "cell_type": "code",
   "execution_count": null,
   "metadata": {
    "id": "ZGEPggPowBTz"
   },
   "outputs": [],
   "source": [
    "#original_overdose_data_with_original_index\n",
    "original_overdose_data_with_original_index['The_Decedent_Race_Recode_5'] = np.where(original_overdose_data_with_original_index['The_Decedent_Hispanic_Origin/Race_Recode'].isin(['1','2','3','4','5']), '6', original_overdose_data_with_original_index['The_Decedent_Race_Recode_5'])\n"
   ]
  },
  {
   "cell_type": "code",
   "execution_count": null,
   "metadata": {
    "id": "haN5o_t1Ofwi"
   },
   "outputs": [],
   "source": [
    "#original_overdose_data\n",
    "original_overdose_data['The_Decedent_Race_Recode_5'] = np.where(original_overdose_data['The_Decedent_Hispanic_Origin/Race_Recode'].isin(['1','2','3','4','5']), '6', original_overdose_data['The_Decedent_Race_Recode_5'])"
   ]
  },
  {
   "cell_type": "code",
   "execution_count": null,
   "metadata": {
    "id": "AsBdPpXMwEa2"
   },
   "outputs": [],
   "source": [
    "original_data = original_data.assign(The_Decedent_Race=original_data['The_Decedent_Race_Recode_5'])"
   ]
  },
  {
   "cell_type": "code",
   "execution_count": null,
   "metadata": {
    "id": "9T_8fPVEfJ8w"
   },
   "outputs": [],
   "source": [
    "original_no_overdose_data = original_no_overdose_data.assign(The_Decedent_Race=original_no_overdose_data['The_Decedent_Race_Recode_5'])\n",
    "original_overdose_data_with_original_index = original_overdose_data_with_original_index.assign(The_Decedent_Race=original_overdose_data_with_original_index['The_Decedent_Race_Recode_5'])\n",
    "original_overdose_data = original_overdose_data.assign(The_Decedent_Race=original_overdose_data['The_Decedent_Race_Recode_5'])"
   ]
  },
  {
   "cell_type": "code",
   "execution_count": null,
   "metadata": {
    "colab": {
     "base_uri": "https://localhost:8080/"
    },
    "executionInfo": {
     "elapsed": 722,
     "status": "ok",
     "timestamp": 1674678966050,
     "user": {
      "displayName": "Ang Xiao",
      "userId": "05354885258099175146"
     },
     "user_tz": 300
    },
    "id": "mwqElMHGf4WO",
    "outputId": "cffb2085-f7a7-4916-d896-f1bcc82b7607"
   },
   "outputs": [
    {
     "data": {
      "text/plain": [
       "array(['1068', '1012', '1075', '1061', '1046', '1066', '1080', '1096',\n",
       "       '1079', '1083', '1062', '1065', '1048', '1072', '1047', '1090',\n",
       "       '1064', '1098', '1088', '1091', '1094', '1076', '1060', '1073',\n",
       "       '1078', '1043', '1093', '1089', '1025', '1067', '1092', '1050',\n",
       "       '1087', '1085', '1041', '1082', '1071', '1057', '1036', '1084',\n",
       "       '1058', '1086', '1069', '1051', '1099', '1059', '1081', '1042',\n",
       "       '1023', '1026', '1049', '1019', '1052', '1054', '1039', '1056',\n",
       "       '1028', '1014', '1035', '1021', '1074', '1040', '1027', '1038',\n",
       "       '1095', '1070', '1063', '1044', '1101', '1055', '1053', '1029',\n",
       "       '1033', '1045', '1034', '1020', '1037', '1077', '1100', '1030',\n",
       "       '1031', '1024', '1017', '1032', '1016', '1022', '1097', '1018',\n",
       "       '1015', '1013', '1103', '1104', '1109', '1106', '1102', '1105',\n",
       "       '1108', '1110', '1107', '1999', '1111', '1112', '1114', '1115',\n",
       "       '1113', '1116', '1117', '1126', '1118', '1119'], dtype=object)"
      ]
     },
     "execution_count": 43,
     "metadata": {},
     "output_type": "execute_result"
    }
   ],
   "source": [
    "#e.\tAge\t\t\t\t\t\t70-82\n",
    "original_data['The_Decedent_Age'].unique()"
   ]
  },
  {
   "cell_type": "code",
   "execution_count": null,
   "metadata": {
    "colab": {
     "base_uri": "https://localhost:8080/"
    },
    "executionInfo": {
     "elapsed": 834,
     "status": "ok",
     "timestamp": 1674678967013,
     "user": {
      "displayName": "Ang Xiao",
      "userId": "05354885258099175146"
     },
     "user_tz": 300
    },
    "id": "df6IqU6zoSQd",
    "outputId": "713178c8-7651-4004-8788-76871cff0cf7"
   },
   "outputs": [
    {
     "data": {
      "text/plain": [
       "array(['2', '1', '4', '9', '3', '8', '5', '6', '7'], dtype=object)"
      ]
     },
     "execution_count": 44,
     "metadata": {},
     "output_type": "execute_result"
    }
   ],
   "source": [
    "#i.\tEducation\t\t\t\t\t61-64\n",
    "original_data['The_Decedent_Education'].unique()"
   ]
  },
  {
   "cell_type": "code",
   "execution_count": null,
   "metadata": {
    "colab": {
     "base_uri": "https://localhost:8080/"
    },
    "executionInfo": {
     "elapsed": 997,
     "status": "ok",
     "timestamp": 1674678968286,
     "user": {
      "displayName": "Ang Xiao",
      "userId": "05354885258099175146"
     },
     "user_tz": 300
    },
    "id": "7PIarq5YycvJ",
    "outputId": "56683a79-80f9-4c24-e248-eb2cad1e0126"
   },
   "outputs": [
    {
     "data": {
      "text/plain": [
       "array(['2', '4', '5', '9', '6', '1', '3', '0'], dtype=object)"
      ]
     },
     "execution_count": 45,
     "metadata": {},
     "output_type": "execute_result"
    }
   ],
   "source": [
    "original_data['Occurrence_County_Population_size'].unique()"
   ]
  },
  {
   "cell_type": "code",
   "execution_count": null,
   "metadata": {
    "colab": {
     "base_uri": "https://localhost:8080/"
    },
    "executionInfo": {
     "elapsed": 7,
     "status": "ok",
     "timestamp": 1674678968287,
     "user": {
      "displayName": "Ang Xiao",
      "userId": "05354885258099175146"
     },
     "user_tz": 300
    },
    "id": "LmVj8cVMi9DH",
    "outputId": "8b8f7715-8344-460e-f293-1d3b029b484d"
   },
   "outputs": [
    {
     "data": {
      "text/plain": [
       "['General_Record_Type',\n",
       " 'General_Resident_status',\n",
       " 'General_Place_of_death_and_decedents_status',\n",
       " 'General_Day_of_week_of_death',\n",
       " 'General_Data_year',\n",
       " 'General_Manner_of_death',\n",
       " 'Occurrence_State(FIPS)',\n",
       " 'Occurrence_County(FIPS)',\n",
       " 'Occurrence_County_Population_size',\n",
       " 'Residence_State(FIPS)',\n",
       " 'Residence_County(FIPS)',\n",
       " 'Residence_Met_or_Nonmet_county',\n",
       " 'The_Decedent_Date_of_Death',\n",
       " 'The_Decedent_Sex',\n",
       " 'The_Decedent_Age',\n",
       " 'The_Decedent_Marital_status',\n",
       " 'The_Decedent_State_or_country_of_birth',\n",
       " 'The_Decedent_Education',\n",
       " 'Underlying_Cause_ICD-10_code',\n",
       " 'The_Decedent_Race_Recode_5',\n",
       " 'The_Decedent_Hispanic_Origin/Race_Recode',\n",
       " 'The_Decedent_Race']"
      ]
     },
     "execution_count": 46,
     "metadata": {},
     "output_type": "execute_result"
    }
   ],
   "source": [
    "category_features = [x for x in original_data.columns if original_data[x].dtype != float]\n",
    "category_features"
   ]
  },
  {
   "cell_type": "code",
   "execution_count": null,
   "metadata": {
    "colab": {
     "base_uri": "https://localhost:8080/"
    },
    "executionInfo": {
     "elapsed": 274,
     "status": "ok",
     "timestamp": 1674678969389,
     "user": {
      "displayName": "Ang Xiao",
      "userId": "05354885258099175146"
     },
     "user_tz": 300
    },
    "id": "eU22VT76JXvg",
    "outputId": "bc09b6c4-466a-4e35-c347-1326aff4d0b9"
   },
   "outputs": [
    {
     "data": {
      "text/plain": [
       "array(['3', '1', '4', '2', '6'], dtype=object)"
      ]
     },
     "execution_count": 47,
     "metadata": {},
     "output_type": "execute_result"
    }
   ],
   "source": [
    "original_data['The_Decedent_Race_Recode_5'].unique()"
   ]
  },
  {
   "cell_type": "code",
   "execution_count": null,
   "metadata": {
    "id": "iO4bCtQAMEwj"
   },
   "outputs": [],
   "source": [
    "original_data.to_csv('/content/drive/My Drive/original_data.csv', index=False)"
   ]
  },
  {
   "cell_type": "code",
   "execution_count": null,
   "metadata": {
    "id": "OlhY281nMI-F"
   },
   "outputs": [],
   "source": [
    "original_no_overdose_data.to_csv('/content/drive/My Drive/original_no_overdose_data.csv', index=False)"
   ]
  },
  {
   "cell_type": "code",
   "execution_count": null,
   "metadata": {
    "id": "5ShdOIWTMJaX"
   },
   "outputs": [],
   "source": [
    "original_overdose_data_with_original_index.to_csv('/content/drive/My Drive/original_overdose_data_with_original_index.csv', index=False)"
   ]
  },
  {
   "cell_type": "code",
   "execution_count": null,
   "metadata": {
    "id": "u-VMCYz7MNg1"
   },
   "outputs": [],
   "source": [
    "original_overdose_data.to_csv('/content/drive/My Drive/original_overdose_data.csv', index=False)"
   ]
  }
 ],
 "metadata": {
  "accelerator": "TPU",
  "colab": {
   "authorship_tag": "ABX9TyOR6VvxUODW0pnG6OUj4zS/",
   "collapsed_sections": [
    "--Y5d9cKEVxu",
    "kJXzf6EJQhkA",
    "KVB4kkalEr62",
    "4_yVpxVjFE9q",
    "nIm-yI9JFsVX",
    "gUeqLY1cF6c5",
    "T1gI-Djh9zlD",
    "RAx7Fem_91gi",
    "222Y0xuy109R"
   ],
   "machine_shape": "hm",
   "mount_file_id": "1IPcdY4wBNOLLJ272ur5y4hlj3lOL39Qs",
   "provenance": [
    {
     "file_id": "https://github.com/ChengAng2001/jupyternotebook/blob/main/XGboost_on_USAllv2.ipynb",
     "timestamp": 1673943375269
    }
   ]
  },
  "gpuClass": "premium",
  "kernelspec": {
   "display_name": "Python 3 (ipykernel)",
   "language": "python",
   "name": "python3"
  },
  "language_info": {
   "codemirror_mode": {
    "name": "ipython",
    "version": 3
   },
   "file_extension": ".py",
   "mimetype": "text/x-python",
   "name": "python",
   "nbconvert_exporter": "python",
   "pygments_lexer": "ipython3",
   "version": "3.8.17"
  }
 },
 "nbformat": 4,
 "nbformat_minor": 1
}
