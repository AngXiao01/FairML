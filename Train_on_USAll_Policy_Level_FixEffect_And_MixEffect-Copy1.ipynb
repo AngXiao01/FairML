{
 "cells": [
  {
   "cell_type": "markdown",
   "metadata": {
    "id": "--Y5d9cKEVxu"
   },
   "source": [
    "# Import and Read Data"
   ]
  },
  {
   "cell_type": "code",
   "execution_count": 2,
   "metadata": {
    "id": "OEy9ZaIJi7pP"
   },
   "outputs": [],
   "source": [
    "import os\n",
    "import sys\n",
    "import time\n",
    "import numpy as np\n",
    "import pandas as pd\n",
    "import xgboost as xgb\n",
    "from xgboost import XGBClassifier\n",
    "import gpboost as gpb\n",
    "import matplotlib.pyplot as plt\n",
    "import seaborn as sns\n",
    "from copy import deepcopy\n",
    "from sklearn import metrics, model_selection\n",
    "from sklearn.metrics import (confusion_matrix, accuracy_score, precision_score, \n",
    "                             recall_score, f1_score, roc_auc_score, roc_curve, auc, \n",
    "                             ConfusionMatrixDisplay, mean_squared_error)\n",
    "from sklearn.preprocessing import normalize, LabelEncoder\n",
    "from sklearn.model_selection import train_test_split, KFold, cross_val_score, GridSearchCV, StratifiedKFold, GroupKFold\n",
    "import statsmodels.api as sm\n",
    "import statsmodels.formula.api as smf"
   ]
  },
  {
   "cell_type": "code",
   "execution_count": 2,
   "metadata": {
    "id": "gfgVkV1qtQKJ"
   },
   "outputs": [],
   "source": [
    "filepaths = {\n",
    "    \"original_data\": \"../Data/original_data.csv\",\n",
    "    \"original_no_overdose_data\": \"../Data/original_no_overdose_data.csv\",\n",
    "    \"original_overdose_data\": \"../Data/original_overdose_data.csv\"\n",
    "}\n",
    "\n",
    "for key, path in filepaths.items():\n",
    "    data = pd.read_csv(path, dtype=object)\n",
    "    data['Residence_State'] = data['Residence_State(FIPS)']\n",
    "    data.drop('Residence_State(FIPS)', axis=1, inplace=True)\n",
    "    globals()[key] = data"
   ]
  },
  {
   "cell_type": "markdown",
   "metadata": {
    "id": "4_yVpxVjFE9q"
   },
   "source": [
    "# Split Data to train, and test\n"
   ]
  },
  {
   "cell_type": "code",
   "execution_count": 3,
   "metadata": {
    "id": "LwzdObJny2ZX"
   },
   "outputs": [],
   "source": [
    "def data_split_and_label(data_set, label_value):\n",
    "    \"\"\"Splits the data into train and test sets and adds a label.\"\"\"\n",
    "    train, test = model_selection.train_test_split(data_set, test_size=0.3)\n",
    "    train.insert(0, \"y_value\", label_value)\n",
    "    test.insert(0, \"y_value\", label_value)\n",
    "    return train, test\n",
    "\n",
    "# Splitting data and adding labels\n",
    "train_class_0, test_class_0 = data_split_and_label(original_no_overdose_data, 0)\n",
    "train_class_1, test_class_1 = data_split_and_label(original_overdose_data, 1)\n",
    "\n",
    "# Resampling the non-overdose data\n",
    "num_of_samples = len(train_class_1)\n",
    "train_class_0_resampled = [train_class_0.sample(num_of_samples) for _ in range(1)]\n",
    "test_class_0_resampled = [test_class_0.sample(int(3*num_of_samples/7)) for _ in range(1)]\n",
    "\n",
    "# Combining and shuffling\n",
    "arrayoftrain = [(pd.concat([train_0, train_class_1])).sample(frac=1) for train_0 in train_class_0_resampled]\n",
    "arrayoftest = [(pd.concat([test_0, test_class_1])).sample(frac=1) for test_0 in test_class_0_resampled]"
   ]
  },
  {
   "cell_type": "markdown",
   "metadata": {
    "id": "a7pGLA0nRrO2"
   },
   "source": [
    "# Group by Race and others"
   ]
  },
  {
   "cell_type": "code",
   "execution_count": 4,
   "metadata": {
    "id": "SN02qVoewycd",
    "scrolled": true
   },
   "outputs": [],
   "source": [
    "numofclass0 = 1\n",
    "def process_data(array_of_data, columns_to_drop):\n",
    "    x_data = []\n",
    "    y_data = []\n",
    "    \n",
    "    for data in array_of_data:\n",
    "        data_x = data.drop(columns=columns_to_drop).sample(n=len(data))\n",
    "        data_y = data_x.pop(\"y_value\").astype(bool)\n",
    "        x_data.append(data_x)\n",
    "        y_data.append(data_y)\n",
    "        \n",
    "    return x_data, y_data\n",
    "\n",
    "# Define columns to drop\n",
    "columns_to_drop = [\"The_Decedent_Education\", \"Residence_Met_or_Nonmet_county\", \"Residence_County(FIPS)\", \n",
    "                   \"The_Decedent_Marital_status\", \"General_Place_of_death_and_decedents_status\", \n",
    "                   \"The_Decedent_State_or_country_of_birth\", \"Occurrence_County_Population_size\", \n",
    "                   \"Occurrence_County(FIPS)\", \"Occurrence_State(FIPS)\", \"General_Day_of_week_of_death\", \n",
    "                   \"General_Record_Type\", \"General_Resident_status\", \"General_Manner_of_death\", \n",
    "                   \"The_Decedent_Date_of_Death\", \"Underlying_Cause_ICD-10_code\", \"The_Decedent_Race_Recode_5\", \n",
    "                   \"The_Decedent_Hispanic_Origin/Race_Recode\"]\n",
    "\n",
    "# Process main data\n",
    "arrayoftrain_x, arrayoftrain_y = process_data(arrayoftrain, columns_to_drop)\n",
    "arrayoftest_x, arrayoftest_y = process_data(arrayoftest, columns_to_drop)\n",
    "\n",
    "# Using dictionaries to process data by group\n",
    "grouped_data_keys = ['white', 'black', 'AmericanIndian', 'asian', 'hispanic', 'male', 'female', 'Metropolitan', 'Nonmetropolitan', 'Foreignresidents']\n",
    "grouped_data = {key: [] for key in grouped_data_keys}\n",
    "\n",
    "grouped_columns = {\n",
    "    'white': 'The_Decedent_Race',\n",
    "    'black': 'The_Decedent_Race',\n",
    "    'AmericanIndian': 'The_Decedent_Race',\n",
    "    'asian': 'The_Decedent_Race',\n",
    "    'hispanic': 'The_Decedent_Race',\n",
    "    'male': 'The_Decedent_Sex',\n",
    "    'female': 'The_Decedent_Sex',\n",
    "    'Metropolitan': 'Residence_Met_or_Nonmet_county',\n",
    "    'Nonmetropolitan': 'Residence_Met_or_Nonmet_county',\n",
    "    'Foreignresidents': 'Residence_Met_or_Nonmet_county'\n",
    "}\n",
    "\n",
    "grouped_values = {\n",
    "    'white': '1',\n",
    "    'black': '2',\n",
    "    'AmericanIndian': '3',\n",
    "    'asian': '4',\n",
    "    'hispanic': '6',\n",
    "    'male': 'M',\n",
    "    'female': 'F',\n",
    "    'Metropolitan': '1',\n",
    "    'Nonmetropolitan': '2',\n",
    "    'Foreignresidents': 'Z'\n",
    "}\n",
    "\n",
    "for i in range(numofclass0):\n",
    "    for key in grouped_data_keys:\n",
    "        grouped = arrayoftest[i].groupby(grouped_columns[key])\n",
    "        grouped_data[key].append(grouped.get_group(grouped_values[key]))\n",
    "\n",
    "# Process grouped data\n",
    "grouped_data_x, grouped_data_y = {}, {}\n",
    "for key in grouped_data_keys:\n",
    "    x, y = process_data(grouped_data[key], columns_to_drop)\n",
    "    grouped_data_x[key] = x\n",
    "    grouped_data_y[key] = y\n"
   ]
  },
  {
   "cell_type": "markdown",
   "metadata": {},
   "source": [
    "# FixEffect"
   ]
  },
  {
   "cell_type": "markdown",
   "metadata": {},
   "source": [
    "# FixEffect for XGBOOST"
   ]
  },
  {
   "cell_type": "code",
   "execution_count": 5,
   "metadata": {
    "colab": {
     "base_uri": "https://localhost:8080/"
    },
    "executionInfo": {
     "elapsed": 69142,
     "status": "ok",
     "timestamp": 1677796086193,
     "user": {
      "displayName": "Ang Xiao",
      "userId": "05354885258099175146"
     },
     "user_tz": 300
    },
    "id": "4Oi9rw1Ag5Hw",
    "outputId": "f5b71def-0147-4ea5-cbd9-f48bd79c7799"
   },
   "outputs": [
    {
     "name": "stdout",
     "output_type": "stream",
     "text": [
      "Best parameters for fold 1: {'colsample_bytree': 0.7, 'enable_categorical': True, 'gamma': 0.4, 'learning_rate': 0.07, 'max_depth': 7, 'n_estimators': 150, 'reg_alpha': 0.005, 'reg_lambda': 0.3, 'subsample': 0.9, 'tree_method': 'gpu_hist'}\n",
      "Fold 1:\n",
      "True Positives (TP): 68317\n",
      "False Positives (FP): 14488\n",
      "True Negatives (TN): 60831\n",
      "False Negatives (FN): 7002\n",
      "Accuracy: 0.8573\n",
      "Precision: 0.8250\n",
      "Recall: 0.9070\n",
      "F1 Score: 0.8641\n",
      "AUC-ROC: 0.9221\n",
      "--------------------------------------------------\n",
      "Best parameters for fold 2: {'colsample_bytree': 0.7, 'enable_categorical': True, 'gamma': 0.4, 'learning_rate': 0.07, 'max_depth': 7, 'n_estimators': 150, 'reg_alpha': 0.005, 'reg_lambda': 0.3, 'subsample': 0.9, 'tree_method': 'gpu_hist'}\n",
      "Fold 2:\n",
      "True Positives (TP): 68238\n",
      "False Positives (FP): 14317\n",
      "True Negatives (TN): 61002\n",
      "False Negatives (FN): 7081\n",
      "Accuracy: 0.8580\n",
      "Precision: 0.8266\n",
      "Recall: 0.9060\n",
      "F1 Score: 0.8645\n",
      "AUC-ROC: 0.9234\n",
      "--------------------------------------------------\n",
      "Best parameters for fold 3: {'colsample_bytree': 0.7, 'enable_categorical': True, 'gamma': 0.4, 'learning_rate': 0.07, 'max_depth': 7, 'n_estimators': 150, 'reg_alpha': 0.005, 'reg_lambda': 0.3, 'subsample': 0.9, 'tree_method': 'gpu_hist'}\n",
      "Fold 3:\n",
      "True Positives (TP): 68428\n",
      "False Positives (FP): 14389\n",
      "True Negatives (TN): 60930\n",
      "False Negatives (FN): 6891\n",
      "Accuracy: 0.8587\n",
      "Precision: 0.8263\n",
      "Recall: 0.9085\n",
      "F1 Score: 0.8654\n",
      "AUC-ROC: 0.9234\n",
      "--------------------------------------------------\n",
      "Best parameters for fold 4: {'colsample_bytree': 0.7, 'enable_categorical': True, 'gamma': 0.4, 'learning_rate': 0.07, 'max_depth': 7, 'n_estimators': 150, 'reg_alpha': 0.005, 'reg_lambda': 0.3, 'subsample': 0.9, 'tree_method': 'gpu_hist'}\n",
      "Fold 4:\n",
      "True Positives (TP): 68460\n",
      "False Positives (FP): 14331\n",
      "True Negatives (TN): 60988\n",
      "False Negatives (FN): 6859\n",
      "Accuracy: 0.8593\n",
      "Precision: 0.8269\n",
      "Recall: 0.9089\n",
      "F1 Score: 0.8660\n",
      "AUC-ROC: 0.9229\n",
      "--------------------------------------------------\n",
      "Best parameters for fold 5: {'colsample_bytree': 0.7, 'enable_categorical': True, 'gamma': 0.4, 'learning_rate': 0.07, 'max_depth': 7, 'n_estimators': 150, 'reg_alpha': 0.005, 'reg_lambda': 0.3, 'subsample': 0.9, 'tree_method': 'gpu_hist'}\n",
      "Fold 5:\n",
      "True Positives (TP): 68495\n",
      "False Positives (FP): 14186\n",
      "True Negatives (TN): 61133\n",
      "False Negatives (FN): 6824\n",
      "Accuracy: 0.8605\n",
      "Precision: 0.8284\n",
      "Recall: 0.9094\n",
      "F1 Score: 0.8670\n",
      "AUC-ROC: 0.9245\n",
      "--------------------------------------------------\n"
     ]
    }
   ],
   "source": [
    "# Define X and y\n",
    "X, y = arrayoftrain_x[0], arrayoftrain_y[0]\n",
    "\n",
    "# Convert 'object' dtype columns to categorical type\n",
    "categorical_columns = ['The_Decedent_Sex', 'The_Decedent_Race', 'Residence_State']\n",
    "\n",
    "for col in categorical_columns:\n",
    "    X[col] = X[col].astype('category')\n",
    "\n",
    "# Convert columns which are numerical but represented as 'object' to their respective types\n",
    "numerical_as_object = ['General_Data_year', 'The_Decedent_Age']\n",
    "for col in numerical_as_object:\n",
    "    X[col] = pd.to_numeric(X[col], errors='coerce')\n",
    "\n",
    "# Define the model and parameters\n",
    "params = {\n",
    "    'learning_rate': [0.07],\n",
    "    'max_depth': [7],\n",
    "    'n_estimators': [150],\n",
    "    'colsample_bytree': [0.7],\n",
    "    'subsample': [0.9],\n",
    "    'gamma': [0.4],\n",
    "    'reg_alpha': [0.005],\n",
    "    'reg_lambda': [0.3],\n",
    "    'tree_method': ['gpu_hist'],\n",
    "    'enable_categorical': [True]\n",
    "}\n",
    "\n",
    "model = xgb.XGBClassifier()\n",
    "\n",
    "# Outer CV for model evaluation\n",
    "outer_cv = StratifiedKFold(n_splits=5, shuffle=True)  # Using StratifiedKFold for balanced splits\n",
    "\n",
    "for i, (train_idx, test_idx) in enumerate(outer_cv.split(X, y)):\n",
    "    X_train, X_test = X.iloc[train_idx], X.iloc[test_idx]\n",
    "    y_train, y_test = y.iloc[train_idx], y.iloc[test_idx]\n",
    "    \n",
    "    # Inner CV for hyperparameter tuning\n",
    "    inner_cv = KFold(n_splits=5, shuffle=True)\n",
    "    grid_search = GridSearchCV(model, param_grid=params, cv=inner_cv, n_jobs=-1, scoring='accuracy')\n",
    "    grid_search.fit(X_train, y_train)\n",
    "    \n",
    "    # Getting the best model and parameters\n",
    "    best_model = grid_search.best_estimator_\n",
    "    best_params = grid_search.best_params_\n",
    "    \n",
    "    # Output the best parameters for each fold\n",
    "    print(f'Best parameters for fold {i + 1}: {best_params}')\n",
    "    \n",
    "    # Predicting on the test set\n",
    "    y_pred = best_model.predict(X_test)\n",
    "    \n",
    "    # Getting metrics\n",
    "    tn, fp, fn, tp = confusion_matrix(y_test, y_pred).ravel()\n",
    "    accuracy = accuracy_score(y_test, y_pred)\n",
    "    precision = precision_score(y_test, y_pred)\n",
    "    recall = recall_score(y_test, y_pred)\n",
    "    f1 = f1_score(y_test, y_pred)\n",
    "    roc_auc = roc_auc_score(y_test, best_model.predict_proba(X_test)[:, 1])\n",
    "    \n",
    "    # Printing metrics for each fold\n",
    "    print(f\"Fold {i + 1}:\")\n",
    "    print(f'True Positives (TP): {tp}')\n",
    "    print(f'False Positives (FP): {fp}')\n",
    "    print(f'True Negatives (TN): {tn}')\n",
    "    print(f'False Negatives (FN): {fn}')\n",
    "    print(f\"Accuracy: {accuracy:.4f}\")\n",
    "    print(f\"Precision: {precision:.4f}\")\n",
    "    print(f\"Recall: {recall:.4f}\")\n",
    "    print(f\"F1 Score: {f1:.4f}\")\n",
    "    print(f\"AUC-ROC: {roc_auc:.4f}\")\n",
    "    print('-' * 50)  # printing a separator for better readability"
   ]
  },
  {
   "cell_type": "code",
   "execution_count": 6,
   "metadata": {
    "scrolled": false
   },
   "outputs": [
    {
     "name": "stdout",
     "output_type": "stream",
     "text": [
      "Processing class 0...\n",
      "Accuracy: 85.35%\n"
     ]
    },
    {
     "data": {
      "image/png": "[encoded data removed]",
      "text/plain": [
       "<Figure size 640x480 with 2 Axes>"
      ]
     },
     "metadata": {},
     "output_type": "display_data"
    },
    {
     "data": {
      "image/png": "[encoded data removed]",
      "text/plain": [
       "<Figure size 640x480 with 2 Axes>"
      ]
     },
     "metadata": {},
     "output_type": "display_data"
    },
    {
     "data": {
      "image/png": "[encoded data removed]",
      "text/plain": [
       "<Figure size 640x480 with 1 Axes>"
      ]
     },
     "metadata": {},
     "output_type": "display_data"
    },
    {
     "name": "stdout",
     "output_type": "stream",
     "text": [
      "Precision Score: 0.86\n",
      "Recall Score: 0.85\n"
     ]
    },
    {
     "data": {
      "image/png": "[encoded data removed]",
      "text/plain": [
       "<Figure size 600x600 with 1 Axes>"
      ]
     },
     "metadata": {},
     "output_type": "display_data"
    }
   ],
   "source": [
    "def train_and_evaluate_xgb_model(train_x, train_y, test_x, test_y):\n",
    "    \"\"\"Train and evaluate an XGBoost model.\"\"\"\n",
    "    \n",
    "    # Define hyperparameters\n",
    "    params = {\n",
    "        'learning_rate': 0.07,\n",
    "        'max_depth': 7,\n",
    "        'n_estimators': 150,\n",
    "        'subsample': 0.9,\n",
    "        'colsample_bytree': 0.6,\n",
    "        'gamma': 0.4,\n",
    "        'reg_alpha': 0.005,\n",
    "        'reg_lambda': 0.3,\n",
    "        'objective': 'binary:logistic',\n",
    "        'seed': 40,\n",
    "        'tree_method': 'gpu_hist',\n",
    "        'enable_categorical': True\n",
    "    }\n",
    "\n",
    "    # Initialize and train the XGBoost model\n",
    "    xgb_model = xgb.XGBClassifier(**params)\n",
    "    xgb_model.fit(train_x, train_y)\n",
    "\n",
    "    # Predict on the test data\n",
    "    y_pred = xgb_model.predict(test_x)\n",
    "\n",
    "    # Display accuracy\n",
    "    accuracy = metrics.accuracy_score(test_y, y_pred)\n",
    "    print(f\"Accuracy: {accuracy * 100:.2f}%\")\n",
    "\n",
    "    # Display confusion matrix\n",
    "    ConfusionMatrixDisplay.from_estimator(xgb_model, test_x, test_y).plot()\n",
    "    plt.title('Confusion Matrix')\n",
    "    plt.show()\n",
    "\n",
    "    # Display ROC curve\n",
    "    fpr, tpr, _ = roc_curve(test_y, y_pred)\n",
    "    roc_auc = auc(fpr, tpr)\n",
    "    plt.plot(fpr, tpr, 'k--', label=f'ROC (area = {roc_auc:.2f})', lw=2)\n",
    "    plt.xlabel('False Positive Rate')\n",
    "    plt.ylabel('True Positive Rate')\n",
    "    plt.legend(loc='lower right')\n",
    "    plt.title('ROC Curve')\n",
    "    plt.show()\n",
    "\n",
    "    # Display precision and recall\n",
    "    print(f\"Precision Score: {precision_score(test_y, y_pred, average='macro'):.2f}\")\n",
    "    print(f\"Recall Score: {recall_score(test_y, y_pred, average='macro'):.2f}\")\n",
    "\n",
    "    # Display feature importances\n",
    "    plt.figure(figsize=(6, 6))\n",
    "    sorted_idx = xgb_model.feature_importances_.argsort()\n",
    "    plt.barh(train_x.columns[sorted_idx], xgb_model.feature_importances_[sorted_idx])\n",
    "    plt.xlabel(\"XGBoost Feature Importance\")\n",
    "    plt.show()\n",
    "    \n",
    "    # Return the trained model (optional)\n",
    "    return xgb_model\n",
    "\n",
    "def preprocess_dataframe(df):\n",
    "    # Convert categorical columns to 'category' dtype\n",
    "    categorical_cols = ['The_Decedent_Sex', 'The_Decedent_Race', 'Residence_State']\n",
    "    for col in categorical_cols:\n",
    "        df[col] = df[col].astype('category')\n",
    "\n",
    "    # Convert numerical columns stored as strings to 'int' or 'float'\n",
    "    numeric_cols = ['General_Data_year', 'The_Decedent_Age']\n",
    "    for col in numeric_cols:\n",
    "        df[col] = df[col].astype(int)  # or float, if needed\n",
    "\n",
    "    return df\n",
    "\n",
    "# Apply preprocessing to all datasets\n",
    "arrayoftrain_x = [preprocess_dataframe(df) for df in arrayoftrain_x]\n",
    "arrayoftest_x = [preprocess_dataframe(df) for df in arrayoftest_x]\n",
    "\n",
    "\n",
    "for idx in range(numofclass0):\n",
    "    train_x, train_y = arrayoftrain_x[idx], arrayoftrain_y[idx]\n",
    "    test_x, test_y = arrayoftest_x[idx], arrayoftest_y[idx]\n",
    "    \n",
    "    print(f\"Processing class {idx}...\")\n",
    "    train_and_evaluate_xgb_model(train_x, train_y, test_x, test_y)\n"
   ]
  },
  {
   "cell_type": "markdown",
   "metadata": {},
   "source": [
    "# FixEffect for Linear"
   ]
  },
  {
   "cell_type": "code",
   "execution_count": 11,
   "metadata": {},
   "outputs": [
    {
     "name": "stdout",
     "output_type": "stream",
     "text": [
      "                            OLS Regression Results                            \n",
      "==============================================================================\n",
      "Dep. Variable:                  Label   R-squared:                       0.506\n",
      "Model:                            OLS   Adj. R-squared:                  0.506\n",
      "Method:                 Least Squares   F-statistic:                 1.932e+05\n",
      "Date:                Tue, 10 Oct 2023   Prob (F-statistic):               0.00\n",
      "Time:                        09:03:39   Log-Likelihood:            -2.8080e+05\n",
      "No. Observations:              753190   AIC:                         5.616e+05\n",
      "Df Residuals:                  753185   BIC:                         5.617e+05\n",
      "Df Model:                           4                                         \n",
      "Covariance Type:            nonrobust                                         \n",
      "=====================================================================================\n",
      "                        coef    std err          t      P>|t|      [0.025      0.975]\n",
      "-------------------------------------------------------------------------------------\n",
      "Intercept             1.2427      0.001    896.321      0.000       1.240       1.245\n",
      "General_Data_year     0.0079      0.000     55.716      0.000       0.008       0.008\n",
      "The_Decedent_Sex     -0.0111      0.001    -13.208      0.000      -0.013      -0.009\n",
      "The_Decedent_Age     -0.0164   1.92e-05   -857.558      0.000      -0.016      -0.016\n",
      "The_Decedent_Race    -0.0178      0.000    -49.224      0.000      -0.019      -0.017\n",
      "==============================================================================\n",
      "Omnibus:                    18982.405   Durbin-Watson:                   2.001\n",
      "Prob(Omnibus):                  0.000   Jarque-Bera (JB):            20959.467\n",
      "Skew:                          -0.374   Prob(JB):                         0.00\n",
      "Kurtosis:                       3.328   Cond. No.                         186.\n",
      "==============================================================================\n",
      "\n",
      "Notes:\n",
      "[1] Standard Errors assume that the covariance matrix of the errors is correctly specified.\n",
      "True Positives (TP): 140638\n",
      "False Positives (FP): 27709\n",
      "True Negatives (TN): 133688\n",
      "False Negatives (FN): 20760\n",
      "Accuracy: 0.8498\n",
      "Precision: 0.8354\n",
      "Recall: 0.8714\n",
      "F1 Score: 0.8530\n",
      "AUC-ROC: 0.9130\n"
     ]
    }
   ],
   "source": [
    "# Encode labels\n",
    "train_x['Label'] = train_y\n",
    "test_x['Label'] = test_y\n",
    "\n",
    "combined = pd.concat([train_x, test_x], axis=0)\n",
    "\n",
    "le_dict = {}\n",
    "\n",
    "for col in combined.columns:\n",
    "    le = LabelEncoder()\n",
    "    combined[col] = le.fit_transform(combined[col])\n",
    "    le_dict[col] = le\n",
    "\n",
    "# Split the datasets back, making sure to work with copies\n",
    "train_x_encoded = combined.iloc[:len(train_x)].copy()\n",
    "test_x_encoded = combined.iloc[len(train_x):].copy()\n",
    "\n",
    "# Fix the dtype of 'Label' column\n",
    "train_x_encoded['Label'] = train_x_encoded['Label'].astype(int)\n",
    "\n",
    "# Define the formula for your fixed effects model\n",
    "formula = 'Label ~ General_Data_year + The_Decedent_Sex + The_Decedent_Age + The_Decedent_Race + Residence_State'\n",
    "\n",
    "# Create a fixed effects model from your data\n",
    "fixed_effect_model = smf.ols(formula, data=train_x_encoded)\n",
    "\n",
    "# Fit the model\n",
    "fixed_effect_model_fit = fixed_effect_model.fit()\n",
    "\n",
    "# Print the summary\n",
    "print(fixed_effect_model_fit.summary())\n",
    "\n",
    "# Predict the outcomes on the test set\n",
    "test_df = test_x_encoded.copy()\n",
    "test_df['predicted_values'] = fixed_effect_model_fit.predict(test_df)\n",
    "\n",
    "# Convert predicted values to binary 0 or 1 based on threshold\n",
    "test_df['predicted_binary'] = test_df['predicted_values'].apply(lambda x: 1 if x > 0.5 else 0)\n",
    "\n",
    "# Calculate the metrics\n",
    "accuracy = accuracy_score(test_df['Label'], test_df['predicted_binary'])\n",
    "precision = precision_score(test_df['Label'], test_df['predicted_binary'])\n",
    "recall = recall_score(test_df['Label'], test_df['predicted_binary'])\n",
    "f1 = f1_score(test_df['Label'], test_df['predicted_binary'])\n",
    "roc_auc = roc_auc_score(test_df['Label'], test_df['predicted_values']) # Use predicted_values for AUC\n",
    "tn, fp, fn, tp = confusion_matrix(test_df['Label'], test_df['predicted_binary']).ravel()\n",
    "\n",
    "print(f'True Positives (TP): {tp}')\n",
    "print(f'False Positives (FP): {fp}')\n",
    "print(f'True Negatives (TN): {tn}')\n",
    "print(f'False Negatives (FN): {fn}')\n",
    "print(f\"Accuracy: {accuracy:.4f}\")\n",
    "print(f\"Precision: {precision:.4f}\")\n",
    "print(f\"Recall: {recall:.4f}\")\n",
    "print(f\"F1 Score: {f1:.4f}\")\n",
    "print(f\"AUC-ROC: {roc_auc:.4f}\")"
   ]
  },
  {
   "cell_type": "markdown",
   "metadata": {},
   "source": [
    "# MixEffect"
   ]
  },
  {
   "cell_type": "markdown",
   "metadata": {},
   "source": [
    "## MixEffect for XGBoost"
   ]
  },
  {
   "cell_type": "code",
   "execution_count": 12,
   "metadata": {},
   "outputs": [
    {
     "name": "stdout",
     "output_type": "stream",
     "text": [
      "Best parameters for fold 1: {'colsample_bytree': 0.7, 'max_depth': 7, 'n_estimators': 150, 'reg_alpha': 0.005, 'reg_lambda': 0.3, 'subsample': 0.9}\n",
      "Fold 1:\n",
      "True Positives (TP): 62595\n",
      "False Positives (FP): 14565\n",
      "True Negatives (TN): 64255\n",
      "False Negatives (FN): 8755\n",
      "Accuracy: 0.8447\n",
      "Precision: 0.8112\n",
      "Recall: 0.8773\n",
      "F1 Score: 0.8430\n",
      "AUC-ROC: 0.9135\n",
      "--------------------------------------------------\n",
      "Best parameters for fold 2: {'colsample_bytree': 0.7, 'max_depth': 7, 'n_estimators': 150, 'reg_alpha': 0.005, 'reg_lambda': 0.3, 'subsample': 0.9}\n",
      "Fold 2:\n",
      "True Positives (TP): 69813\n",
      "False Positives (FP): 14674\n",
      "True Negatives (TN): 59107\n",
      "False Negatives (FN): 6726\n",
      "Accuracy: 0.8576\n",
      "Precision: 0.8263\n",
      "Recall: 0.9121\n",
      "F1 Score: 0.8671\n",
      "AUC-ROC: 0.9213\n",
      "--------------------------------------------------\n",
      "Best parameters for fold 3: {'colsample_bytree': 0.7, 'max_depth': 7, 'n_estimators': 150, 'reg_alpha': 0.005, 'reg_lambda': 0.3, 'subsample': 0.9}\n",
      "Fold 3:\n",
      "True Positives (TP): 67273\n",
      "False Positives (FP): 16789\n",
      "True Negatives (TN): 60194\n",
      "False Negatives (FN): 6416\n",
      "Accuracy: 0.8460\n",
      "Precision: 0.8003\n",
      "Recall: 0.9129\n",
      "F1 Score: 0.8529\n",
      "AUC-ROC: 0.9135\n",
      "--------------------------------------------------\n",
      "Best parameters for fold 4: {'colsample_bytree': 0.7, 'max_depth': 7, 'n_estimators': 150, 'reg_alpha': 0.005, 'reg_lambda': 0.3, 'subsample': 0.9}\n",
      "Fold 4:\n",
      "True Positives (TP): 70611\n",
      "False Positives (FP): 14393\n",
      "True Negatives (TN): 59303\n",
      "False Negatives (FN): 6902\n",
      "Accuracy: 0.8592\n",
      "Precision: 0.8307\n",
      "Recall: 0.9110\n",
      "F1 Score: 0.8690\n",
      "AUC-ROC: 0.9223\n",
      "--------------------------------------------------\n",
      "Best parameters for fold 5: {'colsample_bytree': 0.7, 'max_depth': 7, 'n_estimators': 150, 'reg_alpha': 0.005, 'reg_lambda': 0.3, 'subsample': 0.9}\n",
      "Fold 5:\n",
      "True Positives (TP): 71166\n",
      "False Positives (FP): 14041\n",
      "True Negatives (TN): 59274\n",
      "False Negatives (FN): 6338\n",
      "Accuracy: 0.8649\n",
      "Precision: 0.8352\n",
      "Recall: 0.9182\n",
      "F1 Score: 0.8748\n",
      "AUC-ROC: 0.9259\n",
      "--------------------------------------------------\n"
     ]
    }
   ],
   "source": [
    "# 1. Prepare the data\n",
    "\n",
    "# 2. Define the parameter grid for tuning\n",
    "param_grid = {\n",
    "    'max_depth': [7],\n",
    "    'n_estimators': [150],\n",
    "    'colsample_bytree': [0.7],\n",
    "    'subsample': [0.9],\n",
    "    #'gamma': [0.4],\n",
    "    'reg_alpha': [0.005],\n",
    "    'reg_lambda': [0.3],\n",
    "    #'tree_method': ['gpu_hist'],\n",
    "    #'enable_categorical': [True]\n",
    "}\n",
    "\n",
    "# 3. Nested CV for hyperparameter tuning and model evaluation\n",
    "outer_cv = GroupKFold(n_splits=5)\n",
    "inner_cv = GroupKFold(n_splits=5)\n",
    "\n",
    "for i, (train_idx, test_idx) in enumerate(outer_cv.split(train_x_encoded, groups=train_x_encoded['Residence_State'])):\n",
    "    \n",
    "    # Splitting the data\n",
    "    X_train, X_test = train_x_encoded.iloc[train_idx], train_x_encoded.iloc[test_idx]\n",
    "    \n",
    "    # Re-computing the group data for the current fold\n",
    "    group_data_train = X_train.groupby('Residence_State').size().values\n",
    "    group_data_test = X_test.groupby('Residence_State').size().values\n",
    "    \n",
    "    train_data = gpb.Dataset(data=X_train.drop(columns=['Residence_State', 'Label']), label=X_train['Label'], group=group_data_train)\n",
    "    test_data = gpb.Dataset(data=X_test.drop(columns=['Residence_State', 'Label']), label=X_test['Label'], group=group_data_test)\n",
    "    \n",
    "    # Inner CV for hyperparameter tuning\n",
    "    model = gpb.GPBoostClassifier()\n",
    "    grid_search = GridSearchCV(estimator=model, param_grid=param_grid, cv=inner_cv, scoring='accuracy')\n",
    "    grid_search.fit(X_train.drop(columns=['Residence_State', 'Label']), X_train['Label'], groups=X_train['Residence_State'])\n",
    "\n",
    "    # Getting the best model and parameters\n",
    "    best_model = grid_search.best_estimator_\n",
    "    best_params = grid_search.best_params_\n",
    "    \n",
    "    # Output the best parameters for each fold\n",
    "    print(f'Best parameters for fold {i + 1}: {best_params}')\n",
    "    \n",
    "    # Make predictions and evaluate the performance of the model\n",
    "    preds_prob = best_model.predict_proba(X_test.drop(columns=['Residence_State', 'Label']))[:, 1]\n",
    "    \n",
    "    # Convert predictions to binary outcomes\n",
    "    threshold = 0.5\n",
    "    preds_binary = (preds_prob > threshold).astype(int)\n",
    "    \n",
    "    # Calculate metrics\n",
    "    accuracy = accuracy_score(X_test['Label'], preds_binary)\n",
    "    precision = precision_score(X_test['Label'], preds_binary)\n",
    "    recall = recall_score(X_test['Label'], preds_binary)\n",
    "    f1 = f1_score(X_test['Label'], preds_binary)\n",
    "    roc_auc = roc_auc_score(X_test['Label'], preds_prob)\n",
    "    tn, fp, fn, tp = confusion_matrix(X_test['Label'], preds_binary).ravel()\n",
    "    \n",
    "    # Printing metrics for each fold\n",
    "    print(f\"Fold {i + 1}:\")\n",
    "    print(f'True Positives (TP): {tp}')\n",
    "    print(f'False Positives (FP): {fp}')\n",
    "    print(f'True Negatives (TN): {tn}')\n",
    "    print(f'False Negatives (FN): {fn}')\n",
    "    print(f\"Accuracy: {accuracy:.4f}\")\n",
    "    print(f\"Precision: {precision:.4f}\")\n",
    "    print(f\"Recall: {recall:.4f}\")\n",
    "    print(f\"F1 Score: {f1:.4f}\")\n",
    "    print(f\"AUC-ROC: {roc_auc:.4f}\")\n",
    "    print('-' * 50)  # printing a separator for better readability"
   ]
  },
  {
   "cell_type": "markdown",
   "metadata": {},
   "source": [
    "## MixEffect for Linear "
   ]
  },
  {
   "cell_type": "code",
   "execution_count": 13,
   "metadata": {
    "scrolled": true
   },
   "outputs": [
    {
     "name": "stderr",
     "output_type": "stream",
     "text": [
      "C:\\Users\\zixuc\\anaconda3\\envs\\xgboost-gpu\\lib\\site-packages\\statsmodels\\base\\model.py:607: ConvergenceWarning: Maximum Likelihood optimization failed to converge. Check mle_retvals\n",
      "  warnings.warn(\"Maximum Likelihood optimization failed to \"\n",
      "C:\\Users\\zixuc\\anaconda3\\envs\\xgboost-gpu\\lib\\site-packages\\statsmodels\\regression\\mixed_linear_model.py:2201: ConvergenceWarning: Retrying MixedLM optimization with lbfgs\n",
      "  warnings.warn(\n",
      "C:\\Users\\zixuc\\anaconda3\\envs\\xgboost-gpu\\lib\\site-packages\\statsmodels\\regression\\mixed_linear_model.py:2238: ConvergenceWarning: The MLE may be on the boundary of the parameter space.\n",
      "  warnings.warn(msg, ConvergenceWarning)\n"
     ]
    },
    {
     "name": "stdout",
     "output_type": "stream",
     "text": [
      "             Mixed Linear Model Regression Results\n",
      "================================================================\n",
      "Model:              MixedLM   Dependent Variable:   Label       \n",
      "No. Observations:   753190    Method:               REML        \n",
      "No. Groups:         56        Scale:                0.1223      \n",
      "Min. group size:    1         Log-Likelihood:       -277433.0114\n",
      "Max. group size:    68669     Converged:            Yes         \n",
      "Mean group size:    13449.8                                     \n",
      "----------------------------------------------------------------\n",
      "                    Coef.  Std.Err.    z     P>|z| [0.025 0.975]\n",
      "----------------------------------------------------------------\n",
      "Intercept            1.237    0.014   89.188 0.000  1.210  1.264\n",
      "General_Data_year    0.008    0.000   54.204 0.000  0.007  0.008\n",
      "The_Decedent_Sex    -0.013    0.001  -15.195 0.000 -0.014 -0.011\n",
      "The_Decedent_Age    -0.016    0.000 -852.659 0.000 -0.016 -0.016\n",
      "The_Decedent_Race   -0.021    0.000  -54.330 0.000 -0.021 -0.020\n",
      "1 | Residence_State  0.000    0.000    0.262 0.793 -0.001  0.001\n",
      "Group Var            0.002    0.001                             \n",
      "================================================================\n",
      "\n",
      "True Positives (TP): 139915\n",
      "False Positives (FP): 27271\n",
      "True Negatives (TN): 134126\n",
      "False Negatives (FN): 21483\n",
      "Accuracy: 0.8490\n",
      "Precision: 0.8369\n",
      "Recall: 0.8669\n",
      "F1 Score: 0.8516\n",
      "AUC-ROC: 0.9130\n"
     ]
    }
   ],
   "source": [
    "# Encode labels\n",
    "train_x['Label'] = train_y\n",
    "test_x['Label'] = test_y\n",
    "\n",
    "combined = pd.concat([train_x, test_x], axis=0)\n",
    "\n",
    "le_dict = {}\n",
    "\n",
    "for col in combined.columns:\n",
    "    le = LabelEncoder()\n",
    "    combined[col] = le.fit_transform(combined[col])\n",
    "    le_dict[col] = le\n",
    "\n",
    "# Split the datasets back, making sure to work with copies\n",
    "train_x_encoded = combined.iloc[:len(train_x)].copy()\n",
    "test_x_encoded = combined.iloc[len(train_x):].copy()\n",
    "\n",
    "# Fix the dtype of 'Label' column\n",
    "train_x_encoded['Label'] = train_x_encoded['Label'].astype(int)\n",
    "\n",
    "# Define the formula for your mixed effects model\n",
    "formula = 'Label ~ General_Data_year + The_Decedent_Sex + The_Decedent_Age + The_Decedent_Race + (1 | Residence_State)'\n",
    "\n",
    "# Create a mixed effects model from your data\n",
    "mixed_effect_model = smf.mixedlm(formula, data=train_x_encoded, groups=train_x_encoded['Residence_State'])\n",
    "\n",
    "# Fit the model\n",
    "mixed_effect_model_fit = mixed_effect_model.fit()\n",
    "\n",
    "# Print the summary\n",
    "print(mixed_effect_model_fit.summary())\n",
    "\n",
    "# Predict the outcomes on the test set\n",
    "test_df = test_x_encoded.copy()\n",
    "test_df['predicted_values'] = mixed_effect_model_fit.predict(test_df)\n",
    "\n",
    "# Convert predicted values to binary 0 or 1 based on threshold\n",
    "test_df['predicted_binary'] = test_df['predicted_values'].apply(lambda x: 1 if x > 0.5 else 0)\n",
    "\n",
    "# Calculate the metrics\n",
    "accuracy = accuracy_score(test_df['Label'], test_df['predicted_binary'])\n",
    "precision = precision_score(test_df['Label'], test_df['predicted_binary'])\n",
    "recall = recall_score(test_df['Label'], test_df['predicted_binary'])\n",
    "f1 = f1_score(test_df['Label'], test_df['predicted_binary'])\n",
    "roc_auc = roc_auc_score(test_df['Label'], test_df['predicted_values']) # Use predicted_values for AUC\n",
    "tn, fp, fn, tp = confusion_matrix(test_df['Label'], test_df['predicted_binary']).ravel()\n",
    "\n",
    "print(f'True Positives (TP): {tp}')\n",
    "print(f'False Positives (FP): {fp}')\n",
    "print(f'True Negatives (TN): {tn}')\n",
    "print(f'False Negatives (FN): {fn}')\n",
    "print(f\"Accuracy: {accuracy:.4f}\")\n",
    "print(f\"Precision: {precision:.4f}\")\n",
    "print(f\"Recall: {recall:.4f}\")\n",
    "print(f\"F1 Score: {f1:.4f}\")\n",
    "print(f\"AUC-ROC: {roc_auc:.4f}\")"
   ]
  },
  {
   "cell_type": "markdown",
   "metadata": {
    "id": "XhDASXLMud_w"
   },
   "source": [
    "# AI 360"
   ]
  },
  {
   "cell_type": "code",
   "execution_count": 14,
   "metadata": {
    "colab": {
     "base_uri": "https://localhost:8080/"
    },
    "executionInfo": {
     "elapsed": 13185,
     "status": "ok",
     "timestamp": 1677012885916,
     "user": {
      "displayName": "Ang Xiao",
      "userId": "05354885258099175146"
     },
     "user_tz": 300
    },
    "id": "aJqOmbmruhWL",
    "outputId": "3017dc32-a23e-4c77-94b1-d7f3a8075024",
    "scrolled": false
   },
   "outputs": [
    {
     "name": "stderr",
     "output_type": "stream",
     "text": [
      "WARNING:root:\n",
      "`load_boston` has been removed from scikit-learn since version 1.2.\n",
      "\n",
      "The Boston housing prices dataset has an ethical problem: as\n",
      "investigated in [1], the authors of this dataset engineered a\n",
      "non-invertible variable \"B\" assuming that racial self-segregation had a\n",
      "positive impact on house prices [2]. Furthermore the goal of the\n",
      "research that led to the creation of this dataset was to study the\n",
      "impact of air quality but it did not give adequate demonstration of the\n",
      "validity of this assumption.\n",
      "\n",
      "The scikit-learn maintainers therefore strongly discourage the use of\n",
      "this dataset unless the purpose of the code is to study and educate\n",
      "about ethical issues in data science and machine learning.\n",
      "\n",
      "In this special case, you can fetch the dataset from the original\n",
      "source::\n",
      "\n",
      "    import pandas as pd\n",
      "    import numpy as np\n",
      "\n",
      "    data_url = \"http://lib.stat.cmu.edu/datasets/boston\"\n",
      "    raw_df = pd.read_csv(data_url, sep=\"\\s+\", skiprows=22, header=None)\n",
      "    data = np.hstack([raw_df.values[::2, :], raw_df.values[1::2, :2]])\n",
      "    target = raw_df.values[1::2, 2]\n",
      "\n",
      "Alternative datasets include the California housing dataset and the\n",
      "Ames housing dataset. You can load the datasets as follows::\n",
      "\n",
      "    from sklearn.datasets import fetch_california_housing\n",
      "    housing = fetch_california_housing()\n",
      "\n",
      "for the California housing dataset and::\n",
      "\n",
      "    from sklearn.datasets import fetch_openml\n",
      "    housing = fetch_openml(name=\"house_prices\", as_frame=True)\n",
      "\n",
      "for the Ames housing dataset.\n",
      "\n",
      "[1] M Carlisle.\n",
      "\"Racist data destruction?\"\n",
      "<https://medium.com/@docintangible/racist-data-destruction-113e3eff54a8>\n",
      "\n",
      "[2] Harrison Jr, David, and Daniel L. Rubinfeld.\n",
      "\"Hedonic housing prices and the demand for clean air.\"\n",
      "Journal of environmental economics and management 5.1 (1978): 81-102.\n",
      "<https://www.researchgate.net/publication/4974606_Hedonic_housing_prices_and_the_demand_for_clean_air>\n",
      ": LawSchoolGPADataset will be unavailable. To install, run:\n",
      "pip install 'aif360[LawSchoolGPA]'\n"
     ]
    },
    {
     "name": "stdout",
     "output_type": "stream",
     "text": [
      "The_Decedent_Race\n",
      "0    592284\n",
      "1     85484\n",
      "4     55981\n",
      "3     12968\n",
      "2      6473\n",
      "Name: count, dtype: int64\n",
      "Mean difference (statistical parity difference) = 0.007058\n",
      "Transformed training dataset mean difference = -0.000000\n"
     ]
    }
   ],
   "source": [
    "import aif360.datasets as datasets\n",
    "from aif360.metrics import BinaryLabelDatasetMetric\n",
    "from aif360.algorithms.preprocessing import Reweighing\n",
    "\n",
    "# Ensure that all object type columns are encoded to numerical\n",
    "le = LabelEncoder()\n",
    "for column in train_x_encoded.select_dtypes(include=['object']).columns:\n",
    "    train_x_encoded[column] = le.fit_transform(train_x_encoded[column])\n",
    "\n",
    "# Convert dataframes to a BinaryLabelDataset format which is required by aif360\n",
    "dataset_train = datasets.BinaryLabelDataset(favorable_label=1,\n",
    "                                            unfavorable_label=0,\n",
    "                                            df=train_x_encoded,\n",
    "                                            label_names=['Label'],\n",
    "                                            protected_attribute_names=['The_Decedent_Race'])\n",
    "\n",
    "print(train_x_encoded[\"The_Decedent_Race\"].value_counts())\n",
    "\n",
    "privileged_groups = [{'The_Decedent_Race': 0}]\n",
    "unprivileged_groups = [{'The_Decedent_Race': 1},\n",
    "                       {'The_Decedent_Race': 2},\n",
    "                       {'The_Decedent_Race': 3},\n",
    "                       {'The_Decedent_Race': 4}]\n",
    "\n",
    "# Compute fairness metric on original training dataset\n",
    "metric_train = BinaryLabelDatasetMetric(dataset_train, \n",
    "                                        unprivileged_groups=unprivileged_groups, \n",
    "                                        privileged_groups=privileged_groups)\n",
    "print(\"Mean difference (statistical parity difference) = %f\" % metric_train.mean_difference())\n",
    "\n",
    "# Bias mitigation\n",
    "RW = Reweighing(unprivileged_groups=unprivileged_groups, \n",
    "                privileged_groups=privileged_groups)\n",
    "dataset_transf_train = RW.fit_transform(dataset_train)\n",
    "\n",
    "# Check the fairness metric for the transformed dataset\n",
    "metric_transf_train = BinaryLabelDatasetMetric(dataset_transf_train, \n",
    "                                               unprivileged_groups=unprivileged_groups, \n",
    "                                               privileged_groups=privileged_groups)\n",
    "print(\"Transformed training dataset mean difference = %f\" % metric_transf_train.mean_difference())\n"
   ]
  },
  {
   "cell_type": "code",
   "execution_count": null,
   "metadata": {},
   "outputs": [],
   "source": [
    "# Convert the 'Residence_State' column to category type\n",
    "train_x['Residence_State'] = train_x['Residence_State'].astype('category')\n",
    "test_x['Residence_State'] = test_x['Residence_State'].astype('category')\n",
    "\n",
    "# Convert the category labels to codes\n",
    "train_x['Residence_State'] = train_x['Residence_State'].cat.codes\n",
    "test_x['Residence_State'] = test_x['Residence_State'].cat.codes\n",
    "\n",
    "for i in range(numofclass0):\n",
    "    print(f\"Processing iteration {i}...\")\n",
    "    train_and_evaluate_xgb_model(train_x, train_y, test_x, test_y)\n",
    "\n"
   ]
  },
  {
   "cell_type": "markdown",
   "metadata": {
    "id": "QQJA2jJ72qwY"
   },
   "source": [
    "# Fairlearn"
   ]
  },
  {
   "cell_type": "markdown",
   "metadata": {
    "id": "ROi-uoH2ycD1"
   },
   "source": [
    "# Logistic Regression"
   ]
  },
  {
   "cell_type": "code",
   "execution_count": 29,
   "metadata": {
    "id": "cZ3tN8SL6I9b"
   },
   "outputs": [
    {
     "ename": "NameError",
     "evalue": "name 'train_x_encoded' is not defined",
     "output_type": "error",
     "traceback": [
      "\u001b[1;31m---------------------------------------------------------------------------\u001b[0m",
      "\u001b[1;31mNameError\u001b[0m                                 Traceback (most recent call last)",
      "Cell \u001b[1;32mIn[29], line 2\u001b[0m\n\u001b[0;32m      1\u001b[0m \u001b[38;5;28;01mfrom\u001b[39;00m \u001b[38;5;21;01msklearn\u001b[39;00m\u001b[38;5;21;01m.\u001b[39;00m\u001b[38;5;21;01mlinear_model\u001b[39;00m \u001b[38;5;28;01mimport\u001b[39;00m LogisticRegression\n\u001b[1;32m----> 2\u001b[0m lr_clf \u001b[38;5;241m=\u001b[39m LogisticRegression( penalty\u001b[38;5;241m=\u001b[39m\u001b[38;5;124m'\u001b[39m\u001b[38;5;124ml2\u001b[39m\u001b[38;5;124m'\u001b[39m, tol\u001b[38;5;241m=\u001b[39m\u001b[38;5;241m0.001\u001b[39m, C\u001b[38;5;241m=\u001b[39m\u001b[38;5;241m2000\u001b[39m,random_state\u001b[38;5;241m=\u001b[39m\u001b[38;5;241m0\u001b[39m, max_iter\u001b[38;5;241m=\u001b[39m\u001b[38;5;241m500\u001b[39m, solver\u001b[38;5;241m=\u001b[39m\u001b[38;5;124m'\u001b[39m\u001b[38;5;124mnewton-cg\u001b[39m\u001b[38;5;124m'\u001b[39m)\u001b[38;5;241m.\u001b[39mfit(\u001b[43mtrain_x_encoded\u001b[49m\u001b[38;5;241m.\u001b[39mdrop(\u001b[38;5;124m'\u001b[39m\u001b[38;5;124mLabel\u001b[39m\u001b[38;5;124m'\u001b[39m, axis\u001b[38;5;241m=\u001b[39m\u001b[38;5;241m1\u001b[39m), train_x_encoded[\u001b[38;5;124m'\u001b[39m\u001b[38;5;124mLabel\u001b[39m\u001b[38;5;124m'\u001b[39m])\n\u001b[0;32m      3\u001b[0m y_pred\u001b[38;5;241m=\u001b[39mlr_clf\u001b[38;5;241m.\u001b[39mpredict(test_x_encoded\u001b[38;5;241m.\u001b[39mdrop(\u001b[38;5;124m'\u001b[39m\u001b[38;5;124mLabel\u001b[39m\u001b[38;5;124m'\u001b[39m, axis\u001b[38;5;241m=\u001b[39m\u001b[38;5;241m1\u001b[39m))\n\u001b[0;32m      4\u001b[0m \u001b[38;5;66;03m#y_pred\u001b[39;00m\n\u001b[0;32m      5\u001b[0m \u001b[38;5;66;03m#lr_clf.predict_proba(train_x_norm)\u001b[39;00m\n",
      "\u001b[1;31mNameError\u001b[0m: name 'train_x_encoded' is not defined"
     ]
    }
   ],
   "source": [
    "from sklearn.linear_model import LogisticRegression\n",
    "lr_clf = LogisticRegression( penalty='l2', tol=0.001, C=2000,random_state=0, max_iter=500, solver='newton-cg').fit(train_x_encoded.drop('Label', axis=1), train_x_encoded['Label'])\n",
    "y_pred=lr_clf.predict(test_x_encoded.drop('Label', axis=1))\n",
    "#y_pred\n",
    "#lr_clf.predict_proba(train_x_norm)\n",
    "print(lr_clf.score(test_x_encoded.drop('Label', axis=1), test_x_encoded['Label']))\n",
    "#print(lr_clf.score(train_x_encoded.drop('Label', axis=1), train_x_encoded['Label']))\n",
    "\n",
    "fpr = dict()\n",
    "tpr = dict()\n",
    "roc_auc = dict()\n",
    "lw = 2\n",
    "fpr, tpr, thresholds = roc_curve(test_x_encoded['Label'], y_pred)\n",
    "roc_auc = auc(fpr, tpr)\n",
    "plt.plot(fpr, tpr, 'k--', label = 'ROC(area = {0:2f})'.format(roc_auc), lw=2)\n",
    "plt.xlim([-0.05, 1.05])\n",
    "plt.ylim([-0.05, 1.05])\n",
    "plt.xlabel('FPR')\n",
    "plt.ylabel('TPR')\n",
    "plt.legend(loc = 'lower right')\n",
    "plt.show()"
   ]
  },
  {
   "cell_type": "code",
   "execution_count": 44,
   "metadata": {
    "id": "ufHh1t9A7N4e"
   },
   "outputs": [
    {
     "ename": "NameError",
     "evalue": "name 'plot_confusion_matrix' is not defined",
     "output_type": "error",
     "traceback": [
      "\u001b[1;31m---------------------------------------------------------------------------\u001b[0m",
      "\u001b[1;31mNameError\u001b[0m                                 Traceback (most recent call last)",
      "Cell \u001b[1;32mIn[44], line 2\u001b[0m\n\u001b[0;32m      1\u001b[0m color \u001b[38;5;241m=\u001b[39m \u001b[38;5;124m'\u001b[39m\u001b[38;5;124mblack\u001b[39m\u001b[38;5;124m'\u001b[39m\n\u001b[1;32m----> 2\u001b[0m matrix \u001b[38;5;241m=\u001b[39m \u001b[43mplot_confusion_matrix\u001b[49m(lr_clf, test_x_encoded\u001b[38;5;241m.\u001b[39mdrop(\u001b[38;5;124m'\u001b[39m\u001b[38;5;124mLabel\u001b[39m\u001b[38;5;124m'\u001b[39m, axis\u001b[38;5;241m=\u001b[39m\u001b[38;5;241m1\u001b[39m), test_x_encoded[\u001b[38;5;124m'\u001b[39m\u001b[38;5;124mLabel\u001b[39m\u001b[38;5;124m'\u001b[39m], cmap\u001b[38;5;241m=\u001b[39mplt\u001b[38;5;241m.\u001b[39mcm\u001b[38;5;241m.\u001b[39mBlues)\n\u001b[0;32m      3\u001b[0m matrix\u001b[38;5;241m.\u001b[39max_\u001b[38;5;241m.\u001b[39mset_title(\u001b[38;5;124m'\u001b[39m\u001b[38;5;124mConfusion Matrix\u001b[39m\u001b[38;5;124m'\u001b[39m, color\u001b[38;5;241m=\u001b[39mcolor)\n\u001b[0;32m      4\u001b[0m plt\u001b[38;5;241m.\u001b[39mxlabel(\u001b[38;5;124m'\u001b[39m\u001b[38;5;124mPredicted Label\u001b[39m\u001b[38;5;124m'\u001b[39m, color\u001b[38;5;241m=\u001b[39mcolor)\n",
      "\u001b[1;31mNameError\u001b[0m: name 'plot_confusion_matrix' is not defined"
     ]
    }
   ],
   "source": [
    "color = 'black'\n",
    "matrix = plot_confusion_matrix(lr_clf, test_x_encoded.drop('Label', axis=1), test_x_encoded['Label'], cmap=plt.cm.Blues)\n",
    "matrix.ax_.set_title('Confusion Matrix', color=color)\n",
    "plt.xlabel('Predicted Label', color=color)\n",
    "plt.ylabel('True Label', color=color)\n",
    "plt.gcf().axes[0].tick_params(colors=color)\n",
    "plt.gcf().axes[1].tick_params(colors=color)\n",
    "plt.show()"
   ]
  },
  {
   "cell_type": "code",
   "execution_count": 45,
   "metadata": {
    "id": "a5vpAB4q7Pm5"
   },
   "outputs": [
    {
     "ename": "ValueError",
     "evalue": "Classification metrics can't handle a mix of multiclass-multioutput and binary targets",
     "output_type": "error",
     "traceback": [
      "\u001b[1;31m---------------------------------------------------------------------------\u001b[0m",
      "\u001b[1;31mValueError\u001b[0m                                Traceback (most recent call last)",
      "Cell \u001b[1;32mIn[45], line 1\u001b[0m\n\u001b[1;32m----> 1\u001b[0m \u001b[38;5;28mprint\u001b[39m(\u001b[43mprecision_score\u001b[49m\u001b[43m(\u001b[49m\u001b[43mtest_x_encoded\u001b[49m\u001b[38;5;241;43m.\u001b[39;49m\u001b[43mdrop\u001b[49m\u001b[43m(\u001b[49m\u001b[38;5;124;43m'\u001b[39;49m\u001b[38;5;124;43mLabel\u001b[39;49m\u001b[38;5;124;43m'\u001b[39;49m\u001b[43m,\u001b[49m\u001b[43m \u001b[49m\u001b[43maxis\u001b[49m\u001b[38;5;241;43m=\u001b[39;49m\u001b[38;5;241;43m1\u001b[39;49m\u001b[43m)\u001b[49m\u001b[43m,\u001b[49m\u001b[43m \u001b[49m\u001b[43my_pred\u001b[49m\u001b[43m,\u001b[49m\u001b[43m \u001b[49m\u001b[43maverage\u001b[49m\u001b[38;5;241;43m=\u001b[39;49m\u001b[38;5;124;43m'\u001b[39;49m\u001b[38;5;124;43mmacro\u001b[39;49m\u001b[38;5;124;43m'\u001b[39;49m\u001b[43m)\u001b[49m)\n\u001b[0;32m      3\u001b[0m \u001b[38;5;28mprint\u001b[39m(recall_score(test_x_encoded\u001b[38;5;241m.\u001b[39mdrop(\u001b[38;5;124m'\u001b[39m\u001b[38;5;124mLabel\u001b[39m\u001b[38;5;124m'\u001b[39m, axis\u001b[38;5;241m=\u001b[39m\u001b[38;5;241m1\u001b[39m), y_pred, average\u001b[38;5;241m=\u001b[39m\u001b[38;5;124m'\u001b[39m\u001b[38;5;124mmacro\u001b[39m\u001b[38;5;124m'\u001b[39m))\n",
      "File \u001b[1;32m~\\anaconda3\\envs\\xgboost-gpu\\lib\\site-packages\\sklearn\\metrics\\_classification.py:1954\u001b[0m, in \u001b[0;36mprecision_score\u001b[1;34m(y_true, y_pred, labels, pos_label, average, sample_weight, zero_division)\u001b[0m\n\u001b[0;32m   1825\u001b[0m \u001b[38;5;28;01mdef\u001b[39;00m \u001b[38;5;21mprecision_score\u001b[39m(\n\u001b[0;32m   1826\u001b[0m     y_true,\n\u001b[0;32m   1827\u001b[0m     y_pred,\n\u001b[1;32m   (...)\u001b[0m\n\u001b[0;32m   1833\u001b[0m     zero_division\u001b[38;5;241m=\u001b[39m\u001b[38;5;124m\"\u001b[39m\u001b[38;5;124mwarn\u001b[39m\u001b[38;5;124m\"\u001b[39m,\n\u001b[0;32m   1834\u001b[0m ):\n\u001b[0;32m   1835\u001b[0m \u001b[38;5;250m    \u001b[39m\u001b[38;5;124;03m\"\"\"Compute the precision.\u001b[39;00m\n\u001b[0;32m   1836\u001b[0m \n\u001b[0;32m   1837\u001b[0m \u001b[38;5;124;03m    The precision is the ratio ``tp / (tp + fp)`` where ``tp`` is the number of\u001b[39;00m\n\u001b[1;32m   (...)\u001b[0m\n\u001b[0;32m   1952\u001b[0m \u001b[38;5;124;03m    array([0.5, 1. , 1. ])\u001b[39;00m\n\u001b[0;32m   1953\u001b[0m \u001b[38;5;124;03m    \"\"\"\u001b[39;00m\n\u001b[1;32m-> 1954\u001b[0m     p, _, _, _ \u001b[38;5;241m=\u001b[39m \u001b[43mprecision_recall_fscore_support\u001b[49m\u001b[43m(\u001b[49m\n\u001b[0;32m   1955\u001b[0m \u001b[43m        \u001b[49m\u001b[43my_true\u001b[49m\u001b[43m,\u001b[49m\n\u001b[0;32m   1956\u001b[0m \u001b[43m        \u001b[49m\u001b[43my_pred\u001b[49m\u001b[43m,\u001b[49m\n\u001b[0;32m   1957\u001b[0m \u001b[43m        \u001b[49m\u001b[43mlabels\u001b[49m\u001b[38;5;241;43m=\u001b[39;49m\u001b[43mlabels\u001b[49m\u001b[43m,\u001b[49m\n\u001b[0;32m   1958\u001b[0m \u001b[43m        \u001b[49m\u001b[43mpos_label\u001b[49m\u001b[38;5;241;43m=\u001b[39;49m\u001b[43mpos_label\u001b[49m\u001b[43m,\u001b[49m\n\u001b[0;32m   1959\u001b[0m \u001b[43m        \u001b[49m\u001b[43maverage\u001b[49m\u001b[38;5;241;43m=\u001b[39;49m\u001b[43maverage\u001b[49m\u001b[43m,\u001b[49m\n\u001b[0;32m   1960\u001b[0m \u001b[43m        \u001b[49m\u001b[43mwarn_for\u001b[49m\u001b[38;5;241;43m=\u001b[39;49m\u001b[43m(\u001b[49m\u001b[38;5;124;43m\"\u001b[39;49m\u001b[38;5;124;43mprecision\u001b[39;49m\u001b[38;5;124;43m\"\u001b[39;49m\u001b[43m,\u001b[49m\u001b[43m)\u001b[49m\u001b[43m,\u001b[49m\n\u001b[0;32m   1961\u001b[0m \u001b[43m        \u001b[49m\u001b[43msample_weight\u001b[49m\u001b[38;5;241;43m=\u001b[39;49m\u001b[43msample_weight\u001b[49m\u001b[43m,\u001b[49m\n\u001b[0;32m   1962\u001b[0m \u001b[43m        \u001b[49m\u001b[43mzero_division\u001b[49m\u001b[38;5;241;43m=\u001b[39;49m\u001b[43mzero_division\u001b[49m\u001b[43m,\u001b[49m\n\u001b[0;32m   1963\u001b[0m \u001b[43m    \u001b[49m\u001b[43m)\u001b[49m\n\u001b[0;32m   1964\u001b[0m     \u001b[38;5;28;01mreturn\u001b[39;00m p\n",
      "File \u001b[1;32m~\\anaconda3\\envs\\xgboost-gpu\\lib\\site-packages\\sklearn\\metrics\\_classification.py:1573\u001b[0m, in \u001b[0;36mprecision_recall_fscore_support\u001b[1;34m(y_true, y_pred, beta, labels, pos_label, average, warn_for, sample_weight, zero_division)\u001b[0m\n\u001b[0;32m   1571\u001b[0m \u001b[38;5;28;01mif\u001b[39;00m beta \u001b[38;5;241m<\u001b[39m \u001b[38;5;241m0\u001b[39m:\n\u001b[0;32m   1572\u001b[0m     \u001b[38;5;28;01mraise\u001b[39;00m \u001b[38;5;167;01mValueError\u001b[39;00m(\u001b[38;5;124m\"\u001b[39m\u001b[38;5;124mbeta should be >=0 in the F-beta score\u001b[39m\u001b[38;5;124m\"\u001b[39m)\n\u001b[1;32m-> 1573\u001b[0m labels \u001b[38;5;241m=\u001b[39m \u001b[43m_check_set_wise_labels\u001b[49m\u001b[43m(\u001b[49m\u001b[43my_true\u001b[49m\u001b[43m,\u001b[49m\u001b[43m \u001b[49m\u001b[43my_pred\u001b[49m\u001b[43m,\u001b[49m\u001b[43m \u001b[49m\u001b[43maverage\u001b[49m\u001b[43m,\u001b[49m\u001b[43m \u001b[49m\u001b[43mlabels\u001b[49m\u001b[43m,\u001b[49m\u001b[43m \u001b[49m\u001b[43mpos_label\u001b[49m\u001b[43m)\u001b[49m\n\u001b[0;32m   1575\u001b[0m \u001b[38;5;66;03m# Calculate tp_sum, pred_sum, true_sum ###\u001b[39;00m\n\u001b[0;32m   1576\u001b[0m samplewise \u001b[38;5;241m=\u001b[39m average \u001b[38;5;241m==\u001b[39m \u001b[38;5;124m\"\u001b[39m\u001b[38;5;124msamples\u001b[39m\u001b[38;5;124m\"\u001b[39m\n",
      "File \u001b[1;32m~\\anaconda3\\envs\\xgboost-gpu\\lib\\site-packages\\sklearn\\metrics\\_classification.py:1374\u001b[0m, in \u001b[0;36m_check_set_wise_labels\u001b[1;34m(y_true, y_pred, average, labels, pos_label)\u001b[0m\n\u001b[0;32m   1371\u001b[0m \u001b[38;5;28;01mif\u001b[39;00m average \u001b[38;5;129;01mnot\u001b[39;00m \u001b[38;5;129;01min\u001b[39;00m average_options \u001b[38;5;129;01mand\u001b[39;00m average \u001b[38;5;241m!=\u001b[39m \u001b[38;5;124m\"\u001b[39m\u001b[38;5;124mbinary\u001b[39m\u001b[38;5;124m\"\u001b[39m:\n\u001b[0;32m   1372\u001b[0m     \u001b[38;5;28;01mraise\u001b[39;00m \u001b[38;5;167;01mValueError\u001b[39;00m(\u001b[38;5;124m\"\u001b[39m\u001b[38;5;124maverage has to be one of \u001b[39m\u001b[38;5;124m\"\u001b[39m \u001b[38;5;241m+\u001b[39m \u001b[38;5;28mstr\u001b[39m(average_options))\n\u001b[1;32m-> 1374\u001b[0m y_type, y_true, y_pred \u001b[38;5;241m=\u001b[39m \u001b[43m_check_targets\u001b[49m\u001b[43m(\u001b[49m\u001b[43my_true\u001b[49m\u001b[43m,\u001b[49m\u001b[43m \u001b[49m\u001b[43my_pred\u001b[49m\u001b[43m)\u001b[49m\n\u001b[0;32m   1375\u001b[0m \u001b[38;5;66;03m# Convert to Python primitive type to avoid NumPy type / Python str\u001b[39;00m\n\u001b[0;32m   1376\u001b[0m \u001b[38;5;66;03m# comparison. See https://github.com/numpy/numpy/issues/6784\u001b[39;00m\n\u001b[0;32m   1377\u001b[0m present_labels \u001b[38;5;241m=\u001b[39m unique_labels(y_true, y_pred)\u001b[38;5;241m.\u001b[39mtolist()\n",
      "File \u001b[1;32m~\\anaconda3\\envs\\xgboost-gpu\\lib\\site-packages\\sklearn\\metrics\\_classification.py:95\u001b[0m, in \u001b[0;36m_check_targets\u001b[1;34m(y_true, y_pred)\u001b[0m\n\u001b[0;32m     92\u001b[0m     y_type \u001b[38;5;241m=\u001b[39m {\u001b[38;5;124m\"\u001b[39m\u001b[38;5;124mmulticlass\u001b[39m\u001b[38;5;124m\"\u001b[39m}\n\u001b[0;32m     94\u001b[0m \u001b[38;5;28;01mif\u001b[39;00m \u001b[38;5;28mlen\u001b[39m(y_type) \u001b[38;5;241m>\u001b[39m \u001b[38;5;241m1\u001b[39m:\n\u001b[1;32m---> 95\u001b[0m     \u001b[38;5;28;01mraise\u001b[39;00m \u001b[38;5;167;01mValueError\u001b[39;00m(\n\u001b[0;32m     96\u001b[0m         \u001b[38;5;124m\"\u001b[39m\u001b[38;5;124mClassification metrics can\u001b[39m\u001b[38;5;124m'\u001b[39m\u001b[38;5;124mt handle a mix of \u001b[39m\u001b[38;5;132;01m{0}\u001b[39;00m\u001b[38;5;124m and \u001b[39m\u001b[38;5;132;01m{1}\u001b[39;00m\u001b[38;5;124m targets\u001b[39m\u001b[38;5;124m\"\u001b[39m\u001b[38;5;241m.\u001b[39mformat(\n\u001b[0;32m     97\u001b[0m             type_true, type_pred\n\u001b[0;32m     98\u001b[0m         )\n\u001b[0;32m     99\u001b[0m     )\n\u001b[0;32m    101\u001b[0m \u001b[38;5;66;03m# We can't have more than one value on y_type => The set is no more needed\u001b[39;00m\n\u001b[0;32m    102\u001b[0m y_type \u001b[38;5;241m=\u001b[39m y_type\u001b[38;5;241m.\u001b[39mpop()\n",
      "\u001b[1;31mValueError\u001b[0m: Classification metrics can't handle a mix of multiclass-multioutput and binary targets"
     ]
    }
   ],
   "source": [
    "print(precision_score(test_x_encoded.drop('Label', axis=1), y_pred, average='macro'))\n",
    "\n",
    "print(recall_score(test_x_encoded.drop('Label', axis=1), y_pred, average='macro'))\n",
    "\n",
    "\n",
    "\n"
   ]
  },
  {
   "cell_type": "markdown",
   "metadata": {
    "id": "op0gLLii9xXt"
   },
   "source": [
    "# SVM"
   ]
  },
  {
   "cell_type": "code",
   "execution_count": null,
   "metadata": {
    "id": "nqJIaLEv9vnp"
   },
   "outputs": [],
   "source": [
    "from sklearn import svm\n",
    "\n",
    "def support_vector_machine(train_x_hashed, train_y, validation_x, validation_y):\n",
    "  clf = svm.SVC(C = 455000000, max_iter =  10000)\n",
    "  clf.fit(train_x_hashed, train_y)\n",
    "  y_pred = clf.predict(validation_x)\n",
    "  accuracy = metrics.accuracy_score(validation_y, y_pred)\n",
    "  return accuracy, y_pred, clf"
   ]
  },
  {
   "cell_type": "code",
   "execution_count": null,
   "metadata": {
    "id": "AcyME8XU-fj6"
   },
   "outputs": [],
   "source": [
    "validation_accuracy, y_pred, svm_model = support_vector_machine(train_x_hashed, train_y, validation_x_hashed, validation_y)\n",
    "print(validation_accuracy)"
   ]
  },
  {
   "cell_type": "code",
   "execution_count": null,
   "metadata": {
    "id": "Ehuc3RJZ-rYk"
   },
   "outputs": [],
   "source": [
    "fpr = dict()\n",
    "tpr = dict()\n",
    "roc_auc = dict()\n",
    "lw = 2\n",
    "fpr, tpr, thresholds = roc_curve(validation_y, y_pred)\n",
    "roc_auc = auc(fpr, tpr)\n",
    "plt.plot(fpr, tpr, 'k--', label = 'ROC(area = {0:2f})'.format(roc_auc), lw=2)\n",
    "plt.xlim([-0.05, 1.05])\n",
    "plt.ylim([-0.05, 1.05])\n",
    "plt.xlabel('FPR')\n",
    "plt.ylabel('TPR')\n",
    "plt.legend(loc = 'lower right')\n",
    "plt.show()"
   ]
  },
  {
   "cell_type": "markdown",
   "metadata": {
    "id": "T1gI-Djh9zlD"
   },
   "source": [
    "# KNN"
   ]
  },
  {
   "cell_type": "code",
   "execution_count": null,
   "metadata": {
    "id": "fMQMyPSe90Sk"
   },
   "outputs": [],
   "source": [
    "def KNN_test(train_x, train_y, validation_x, validation_y, k, m, n):\n",
    "  KNN = sklearn.neighbors.KNeighborsClassifier(n_neighbors=k, n_jobs=m, leaf_size=n)\n",
    "  KNN.fit(train_x, train_y)\n",
    "  y_pred = KNN.predict(validation_x)\n",
    "  acc = metrics.accuracy_score(validation_y, y_pred)\n",
    "  model = KNN\n",
    "  return acc, y_pred, model"
   ]
  },
  {
   "cell_type": "code",
   "execution_count": null,
   "metadata": {
    "id": "bpiSo2yd_hdC"
   },
   "outputs": [],
   "source": [
    "acc, y_pred, knn_model = KNN_test(train_x_hashed, train_y, validation_x_hashed, validation_y, k=5, m=15, n=40)\n",
    "print('test accuracy:', acc)"
   ]
  },
  {
   "cell_type": "code",
   "execution_count": null,
   "metadata": {
    "id": "jFk5MJs5_i-P"
   },
   "outputs": [],
   "source": [
    "from sklearn.model_selection import RandomizedSearchCV\n",
    "KNN = sklearn.neighbors.KNeighborsClassifier()\n",
    "\n",
    "params = {'n_neighbors': [5, 6, 7, 8, 10, 15, 20], 'leaf_size': [20, 30, 40, 50], 'n_jobs' : [10, 15, 16, 18, 20]}\n",
    "\n",
    "rs_model=RandomizedSearchCV(KNN,param_distributions=params,n_iter=5,scoring='roc_auc',n_jobs=-1,cv=5,verbose=3)\n",
    "\n",
    "#model fitting\n",
    "rs_model.fit(train_x_hashed, train_y)\n",
    "\n",
    "#parameters selected\n",
    "print(rs_model.best_estimator_)\n",
    "\n",
    "print (rs_model.best_score_)\n"
   ]
  },
  {
   "cell_type": "code",
   "execution_count": null,
   "metadata": {
    "id": "maLqo1Fp_tuO"
   },
   "outputs": [],
   "source": [
    "fpr = dict()\n",
    "tpr = dict()\n",
    "roc_auc = dict()\n",
    "lw = 2\n",
    "fpr, tpr, thresholds = roc_curve(validation_y, y_pred)\n",
    "roc_auc = auc(fpr, tpr)\n",
    "plt.plot(fpr, tpr, 'k--', label = 'ROC(area = {0:2f})'.format(roc_auc), lw=2)\n",
    "plt.xlim([-0.05, 1.05])\n",
    "plt.ylim([-0.05, 1.05])\n",
    "plt.xlabel('FPR')\n",
    "plt.ylabel('TPR')\n",
    "plt.legend(loc = 'lower right')\n",
    "plt.show()"
   ]
  },
  {
   "cell_type": "code",
   "execution_count": null,
   "metadata": {
    "id": "0wjx0Hb3_wLN"
   },
   "outputs": [],
   "source": [
    "from sklearn.metrics import confusion_matrix\n",
    "from sklearn.metrics import plot_confusion_matrix\n",
    "\n",
    "color = 'black'\n",
    "matrix = plot_confusion_matrix(knn_model, validation_x_hashed, validation_y, cmap=plt.cm.Blues)\n",
    "matrix.ax_.set_title('KNN Confusion Matrix', color=color)\n",
    "plt.xlabel('Predicted Label', color=color)\n",
    "plt.ylabel('True Label', color=color)\n",
    "plt.gcf().axes[0].tick_params(colors=color)\n",
    "plt.gcf().axes[1].tick_params(colors=color)\n",
    "plt.show()"
   ]
  },
  {
   "cell_type": "code",
   "execution_count": null,
   "metadata": {
    "id": "CKSS19uIBncU"
   },
   "outputs": [],
   "source": [
    "from sklearn.metrics import precision_score\n",
    "from sklearn.metrics import recall_score\n",
    "\n",
    "print(precision_score(validation_y, y_pred, average='macro'))\n",
    "\n",
    "print(recall_score(validation_y, y_pred, average='macro'))"
   ]
  },
  {
   "cell_type": "markdown",
   "metadata": {
    "id": "RAx7Fem_91gi"
   },
   "source": [
    "# Random Forest"
   ]
  },
  {
   "cell_type": "code",
   "execution_count": null,
   "metadata": {
    "id": "pC7gl5Pj92CT"
   },
   "outputs": [],
   "source": [
    "from sklearn.ensemble import RandomForestClassifier\n",
    "\n",
    "def random_forest(train_x, train_y, validation_x, validation_y, n_est=100):\n",
    "  clf = RandomForestClassifier(n_estimators = n_est, min_samples_split=2, min_samples_leaf=4, max_depth=90, bootstrap=True)\n",
    "  clf.fit(train_x, train_y)\n",
    "  y_pred = clf.predict(validation_x)\n",
    "  accuracy = metrics.accuracy_score(validation_y, y_pred)\n",
    "  model = clf\n",
    "  return accuracy, y_pred, model"
   ]
  },
  {
   "cell_type": "code",
   "execution_count": null,
   "metadata": {
    "id": "xR0bIpHsBxMc"
   },
   "outputs": [],
   "source": [
    "validation_accuracy, y_pred,random_forest_model = random_forest(train_x_hashed, train_y, validation_x_hashed, validation_y, 30)\n",
    "print(validation_accuracy)\n",
    "fpr = dict()\n",
    "tpr = dict()\n",
    "roc_auc = dict()\n",
    "lw = 2\n",
    "fpr, tpr, thresholds = roc_curve(validation_y, y_pred)\n",
    "roc_auc = auc(fpr, tpr)\n",
    "plt.plot(fpr, tpr, 'k--', label = 'ROC(area = {0:2f})'.format(roc_auc), lw=2)\n",
    "plt.xlim([-0.05, 1.05])\n",
    "plt.ylim([-0.05, 1.05])\n",
    "plt.xlabel('FPR')\n",
    "plt.ylabel('TPR')\n",
    "plt.legend(loc = 'lower right')\n",
    "plt.show()"
   ]
  },
  {
   "cell_type": "code",
   "execution_count": null,
   "metadata": {
    "id": "dnPsCF11BzEn"
   },
   "outputs": [],
   "source": [
    "from sklearn.metrics import confusion_matrix\n",
    "from sklearn.metrics import plot_confusion_matrix\n",
    "\n",
    "color = 'black'\n",
    "matrix = plot_confusion_matrix(random_forest_model, validation_x_hashed, validation_y, cmap=plt.cm.Blues)\n",
    "matrix.ax_.set_title('Confusion Matrix', color=color)\n",
    "plt.xlabel('Predicted Label', color=color)\n",
    "plt.ylabel('True Label', color=color)\n",
    "plt.gcf().axes[0].tick_params(colors=color)\n",
    "plt.gcf().axes[1].tick_params(colors=color)\n",
    "plt.show()"
   ]
  },
  {
   "cell_type": "code",
   "execution_count": null,
   "metadata": {
    "id": "6FTDqwHYB1Rn"
   },
   "outputs": [],
   "source": [
    "from sklearn.metrics import precision_score\n",
    "from sklearn.metrics import recall_score\n",
    "\n",
    "print(precision_score(validation_y, y_pred, average='macro'))\n",
    "\n",
    "print(recall_score(validation_y, y_pred, average='macro'))"
   ]
  },
  {
   "cell_type": "code",
   "execution_count": null,
   "metadata": {
    "id": "yZ5iI915B5Xq"
   },
   "outputs": [],
   "source": [
    "from sklearn.model_selection import RandomizedSearchCV\n",
    "\n",
    "# Create a search grid of parameters that will be shuffled through\n",
    "\n",
    "n_estimators = [5, 10, 15, 16, 17, 18, 19, 20, 21, 22, 23, 24, 25, 30, 35, 40] # number of trees in the random forest\n",
    "max_features = ['auto', 'sqrt'] # number of features in consideration at every split\n",
    "max_depth = [int(x) for x in np.linspace(10, 120, num = 12)] # maximum number of levels allowed in each decision tree\n",
    "min_samples_split = [2, 3, 4, 5, 6, 7, 8, 9,10] # minimum sample number to split a node\n",
    "min_samples_leaf = [1, 2, 3, 4] # minimum sample number that can be stored in a leaf node\n",
    "bootstrap = [True, False] # method used to sample data points\n",
    "\n",
    "random_grid = {'n_estimators': n_estimators,\n",
    "\n",
    "'max_features': max_features,\n",
    "\n",
    "'max_depth': max_depth,\n",
    "\n",
    "'min_samples_split': min_samples_split,\n",
    "\n",
    "'min_samples_leaf': min_samples_leaf,\n",
    "\n",
    "'bootstrap': bootstrap}\n",
    "\n",
    "rf = RandomForestClassifier()\n",
    "\n",
    "rf_random = RandomizedSearchCV(estimator = rf,param_distributions = random_grid,\n",
    "               n_iter = 100, cv = 5, verbose=2, random_state=35, n_jobs = -1)\n",
    "rf_random = RandomizedSearchCV(estimator = rf,param_distributions = random_grid,\n",
    "               n_iter = 100, cv = 5, verbose=2, random_state=35, n_jobs = -1)\n",
    "rf_random.fit(train_x_hashed, train_y)\n",
    "\n",
    "print ('Random grid: ', random_grid, '\\n')\n",
    "# print the best parameters\n",
    "print ('Best Parameters: ', rf_random.best_params_, ' \\n')"
   ]
  },
  {
   "cell_type": "code",
   "execution_count": null,
   "metadata": {
    "id": "WTlQkgvbCDs0"
   },
   "outputs": [],
   "source": [
    "from matplotlib.pyplot import figure\n",
    "\n",
    "figure(figsize=(6, 6), dpi=80)\n",
    "\n",
    "features = [f\"feature {i}\" for i in range(train_x.shape[1])]\n",
    "importances = random_forest_model.feature_importances_\n",
    "indices = np.argsort(importances)\n",
    "\n",
    "plt.title('Feature Importances')\n",
    "plt.barh(range(len(indices)), importances[indices], color='b', align='center')\n",
    "plt.yticks(range(len(indices)), [features[i] for i in indices])\n",
    "plt.xlabel('Relative Importance')\n",
    "plt.show()"
   ]
  },
  {
   "cell_type": "code",
   "execution_count": null,
   "metadata": {
    "id": "m0h0jJLUCIpe"
   },
   "outputs": [],
   "source": [
    "from sklearn.tree import export_graphviz\n",
    "\n",
    "# Export as dot file\n",
    "export_graphviz(random_forest_model.estimators_[0], out_file='tree.dot',\n",
    "                feature_names = train_x.columns, filled=True,\n",
    "                rounded=True)\n",
    "\n",
    "# Convert to png\n",
    "from subprocess import call\n",
    "call(['dot', '-Tpng', 'tree.dot', '-o', 'tree.png', '-Gdpi=600'])\n",
    "\n",
    "# Display in python\n",
    "import matplotlib.pyplot as plt\n",
    "plt.figure(figsize = (14, 18))\n",
    "plt.imshow(plt.imread('tree.png'))\n",
    "plt.axis('off');\n",
    "plt.show();"
   ]
  },
  {
   "cell_type": "markdown",
   "metadata": {
    "id": "GPmjXFcn92sr"
   },
   "source": [
    "# Neural Network1"
   ]
  },
  {
   "cell_type": "code",
   "execution_count": null,
   "metadata": {
    "id": "-Bk0vQR893N0"
   },
   "outputs": [],
   "source": [
    "import keras\n",
    "from keras.models import Sequential\n",
    "from keras.layers import Dense\n",
    "from keras.layers import Dropout\n",
    "\n",
    "model = Sequential([\n",
    "    Dense(units=12, input_dim=19,activation='relu'),\n",
    "    Dense(units=9, activation='relu'),\n",
    "    Dense(units=1, activation='sigmoid')\n",
    "])\n",
    "\n",
    "model.summary()"
   ]
  },
  {
   "cell_type": "code",
   "execution_count": null,
   "metadata": {
    "id": "XlhuVCpfDFA3"
   },
   "outputs": [],
   "source": [
    "model.compile(optimizer='adam',\n",
    "            loss='binary_crossentropy',\n",
    "            metrics=['accuracy'])"
   ]
  },
  {
   "cell_type": "code",
   "execution_count": null,
   "metadata": {
    "id": "LamSoc8pDPL4"
   },
   "outputs": [],
   "source": [
    "history = model.fit(x=train_x_hashed, y=train_y, epochs=100)"
   ]
  },
  {
   "cell_type": "code",
   "execution_count": null,
   "metadata": {
    "id": "W80iXvvwDJRE"
   },
   "outputs": [],
   "source": [
    "import matplotlib\n",
    "import matplotlib.pyplot as plt\n",
    "\n",
    "plt.figure(figsize=(10, 8), dpi=80)\n",
    "plt.plot(history.history['accuracy'])\n",
    "plt.title('Model accuracy')\n",
    "plt.ylabel('accuracy')\n",
    "plt.xlabel('epoch')\n",
    "plt.legend(['train'], loc='upper left')\n",
    "plt.show()"
   ]
  },
  {
   "cell_type": "code",
   "execution_count": null,
   "metadata": {
    "id": "TRIkEj4_DYju"
   },
   "outputs": [],
   "source": [
    "# summarize history for loss\n",
    "plt.figure(figsize=(20, 8), dpi=80)\n",
    "plt.plot(history.history['loss'])\n",
    "plt.title('model loss')\n",
    "plt.ylabel('loss')\n",
    "plt.xlabel('epoch')\n",
    "plt.legend(['train'], loc='upper left')\n",
    "plt.show()"
   ]
  },
  {
   "cell_type": "code",
   "execution_count": null,
   "metadata": {
    "id": "YC7Xj5ltmVHC"
   },
   "outputs": [],
   "source": [
    "y_pred = (model.predict(validation_x_hashed) > 0.5).astype(\"int32\")\n",
    "\n",
    "fpr = dict()\n",
    "tpr = dict()\n",
    "roc_auc = dict()\n",
    "lw = 2\n",
    "fpr, tpr, thresholds = roc_curve(validation_y, y_pred)\n",
    "roc_auc = auc(fpr, tpr)\n",
    "plt.plot(fpr, tpr, 'k--', label = 'ROC(area = {0:2f})'.format(roc_auc), lw=2)\n",
    "plt.xlim([-0.05, 1.05])\n",
    "plt.ylim([-0.05, 1.05])\n",
    "plt.xlabel('FPR')\n",
    "plt.ylabel('TPR')\n",
    "plt.legend(loc = 'lower right')\n",
    "plt.show()"
   ]
  },
  {
   "cell_type": "code",
   "execution_count": null,
   "metadata": {
    "id": "rgJgo66Lmbm6"
   },
   "outputs": [],
   "source": [
    "import sklearn.metrics as metrics\n",
    "from sklearn.metrics import ConfusionMatrixDisplay\n",
    "\n",
    "color = 'black'\n",
    "matrix = metrics.confusion_matrix(y_true=validation_y, y_pred=y_pred)  # shape=(12, 12)\n",
    "\n",
    "disp = ConfusionMatrixDisplay(confusion_matrix=matrix, display_labels=['True', 'False'])\n",
    "\n",
    "disp.plot(cmap=plt.cm.Blues)\n",
    "plt.title('Confusion Matrix', color=color)\n",
    "plt.show()"
   ]
  },
  {
   "cell_type": "code",
   "execution_count": null,
   "metadata": {
    "id": "jQITu3kDmmQu"
   },
   "outputs": [],
   "source": [
    "from sklearn.metrics import precision_score\n",
    "from sklearn.metrics import recall_score\n",
    "\n",
    "print(precision_score(validation_y, y_pred, average='macro'))\n",
    "\n",
    "print(recall_score(validation_y, y_pred, average='macro'))"
   ]
  },
  {
   "cell_type": "code",
   "execution_count": null,
   "metadata": {
    "id": "E6PU9sCZmpcv"
   },
   "outputs": [],
   "source": [
    "acc = model.evaluate(x=validation_x_hashed, y=validation_y)"
   ]
  },
  {
   "cell_type": "markdown",
   "metadata": {
    "id": "uhTtKMcfC7ca"
   },
   "source": [
    "# Correaltion Map"
   ]
  },
  {
   "cell_type": "code",
   "execution_count": null,
   "metadata": {
    "id": "Fycd4aRfw9lJ"
   },
   "outputs": [],
   "source": [
    "original_data"
   ]
  },
  {
   "cell_type": "code",
   "execution_count": null,
   "metadata": {
    "id": "4oHUeAqTxIdL"
   },
   "outputs": [],
   "source": [
    "original_data.corr()"
   ]
  },
  {
   "cell_type": "code",
   "execution_count": null,
   "metadata": {
    "id": "Bw1hiw2ZK9OR"
   },
   "outputs": [],
   "source": [
    "\n",
    "correlation_matrix = original_data.corr()\n",
    "fig = plt.figure(figsize=(12,9))\n",
    "sns.heatmap(correlation_matrix,vmax=0.8,square = True)\n",
    "plt.show()\n"
   ]
  },
  {
   "cell_type": "markdown",
   "metadata": {
    "id": "222Y0xuy109R"
   },
   "source": [
    "# Norm xgb\n"
   ]
  },
  {
   "cell_type": "code",
   "execution_count": null,
   "metadata": {
    "id": "7nFbam-eIvOp"
   },
   "outputs": [],
   "source": [
    "xgb_model = xgb.XGBClassifier(objective=\"binary:logistic\", colsample_bytree=0.4, gamma=0.4, learning_rate=0.05, max_depth=3, min_child_weight=2, random_state=30)\n",
    "\n",
    "xgb_model.fit(norm_train_x, train_y)\n",
    "\n",
    "# make predictions for test data\n",
    "y_pred = xgb_model.predict(norm_validation_x)\n",
    "predictions = [round(value) for value in y_pred]\n",
    "\n",
    "accuracy = metrics.accuracy_score(validation_y, predictions)\n",
    "print(\"Accuracy: %.2f%%\" % (accuracy * 100.0))\n",
    "\n",
    "color = 'black'\n",
    "matrix = plot_confusion_matrix(xgb_model, norm_validation_x, validation_y, cmap=plt.cm.Blues)\n",
    "matrix.ax_.set_title('Confusion Matrix', color=color)\n",
    "plt.xlabel('Predicted Label', color=color)\n",
    "plt.ylabel('True Label', color=color)\n",
    "plt.gcf().axes[0].tick_params(colors=color)\n",
    "plt.gcf().axes[1].tick_params(colors=color)\n",
    "plt.show()\n",
    "\n",
    "\n",
    "\n",
    "fpr = dict()\n",
    "tpr = dict()\n",
    "roc_auc = dict()\n",
    "lw = 2\n",
    "fpr, tpr, thresholds = roc_curve(validation_y, y_pred)\n",
    "roc_auc = auc(fpr, tpr)\n",
    "plt.plot(fpr, tpr, 'k--', label = 'ROC(area = {0:2f})'.format(roc_auc), lw=2)\n",
    "plt.xlim([-0.05, 1.05])\n",
    "plt.ylim([-0.05, 1.05])\n",
    "plt.xlabel('FPR')\n",
    "plt.ylabel('TPR')\n",
    "plt.legend(loc = 'lower right')\n",
    "plt.show()\n"
   ]
  },
  {
   "cell_type": "code",
   "execution_count": null,
   "metadata": {
    "id": "dKZQu9nESn_w"
   },
   "outputs": [],
   "source": [
    "print(precision_score(validation_y, y_pred, average='macro'))\n",
    "print(recall_score(validation_y, y_pred, average='macro'))\n",
    "\n",
    "\n",
    "\n",
    "figure(figsize=(6, 6), dpi=80)\n",
    "\n",
    "features = [f\"feature {i}\" for i in range(norm_train_x.shape[1])]\n",
    "importances = xgb_model.feature_importances_\n",
    "indices = np.argsort(importances)\n",
    "\n",
    "plt.title('Feature Importances')\n",
    "plt.barh(range(len(indices)), importances[indices], color='b', align='center')\n",
    "plt.yticks(range(len(indices)), [features[i] for i in indices])\n",
    "plt.xlabel('Relative Importance')\n",
    "plt.show()\n",
    "\n",
    "\n",
    "\n",
    "xgb.to_graphviz(xgb_model)"
   ]
  },
  {
   "cell_type": "code",
   "execution_count": null,
   "metadata": {
    "id": "ciVqz0i7Td0A"
   },
   "outputs": [],
   "source": [
    "print(category_features[5])\n",
    "print(category_features[15])\n",
    "print(category_features[2])\n",
    "print(category_features[18])\n",
    "print(category_features[12])\n",
    "print(category_features[13])\n",
    "print(category_features[3])"
   ]
  },
  {
   "cell_type": "code",
   "execution_count": null,
   "metadata": {
    "id": "cygNEZLIy1Qg"
   },
   "outputs": [],
   "source": [
    "dtrain = xgb.DMatrix(train_x_hashed, label=train_y)\n",
    "params = {'objective': 'binary:logistic', 'eval_metric': 'error'}\n",
    "\n",
    "# Perform 5-fold cross-validation\n",
    "cv_results = xgb.cv(params, dtrain, num_boost_round=100, nfold=5, metrics='error', early_stopping_rounds=10)\n",
    "\n",
    "# Print the results\n",
    "print(cv_results)"
   ]
  },
  {
   "cell_type": "code",
   "execution_count": null,
   "metadata": {
    "id": "WL8BV_cky6NY"
   },
   "outputs": [],
   "source": [
    "# Plot the training and test error\n",
    "plt.plot(cv_results['train-error-mean'], label='Training Error')\n",
    "plt.plot(cv_results['test-error-mean'], label='Test Error')\n",
    "\n",
    "# Add a legend and labels\n",
    "plt.legend()\n",
    "plt.xlabel('Number of Boosting Rounds')\n",
    "plt.ylabel('Error')\n",
    "plt.title('XGBoost Cross-Validation Results')\n",
    "\n",
    "# Show the plot\n",
    "plt.show()"
   ]
  }
 ],
 "metadata": {
  "accelerator": "GPU",
  "colab": {
   "authorship_tag": "ABX9TyM281/b45fZOUG5YhlQS88q",
   "collapsed_sections": [
    "--Y5d9cKEVxu",
    "4_yVpxVjFE9q",
    "a7pGLA0nRrO2",
    "nIm-yI9JFsVX",
    "S4Na7r9cgy-L",
    "N7HmCvJ1p8PW",
    "XServPLspAdb",
    "ROi-uoH2ycD1",
    "T1gI-Djh9zlD",
    "RAx7Fem_91gi",
    "222Y0xuy109R"
   ],
   "machine_shape": "hm",
   "mount_file_id": "1IPcdY4wBNOLLJ272ur5y4hlj3lOL39Qs",
   "provenance": [
    {
     "file_id": "https://github.com/ChengAng2001/jupyternotebook/blob/main/XGboost_on_USAllv2.ipynb",
     "timestamp": 1673943375269
    }
   ]
  },
  "gpuClass": "standard",
  "kernelspec": {
   "display_name": "Python 3 (ipykernel)",
   "language": "python",
   "name": "python3"
  },
  "language_info": {
   "codemirror_mode": {
    "name": "ipython",
    "version": 3
   },
   "file_extension": ".py",
   "mimetype": "text/x-python",
   "name": "python",
   "nbconvert_exporter": "python",
   "pygments_lexer": "ipython3",
   "version": "3.8.17"
  }
 },
 "nbformat": 4,
 "nbformat_minor": 1
}
