{
 "cells": [
  {
   "cell_type": "code",
   "execution_count": 1,
   "id": "587188f1",
   "metadata": {},
   "outputs": [
    {
     "ename": "NameError",
     "evalue": "name 'get_version' is not defined",
     "output_type": "error",
     "traceback": [
      "\u001b[1;31m---------------------------------------------------------------------------\u001b[0m",
      "\u001b[1;31mNameError\u001b[0m                                 Traceback (most recent call last)",
      "Cell \u001b[1;32mIn[1], line 1\u001b[0m\n\u001b[1;32m----> 1\u001b[0m \u001b[38;5;28mprint\u001b[39m(\u001b[38;5;124m\"\u001b[39m\u001b[38;5;124mXGBoost version: \u001b[39m\u001b[38;5;124m\"\u001b[39m, get_version(\u001b[38;5;124m\"\u001b[39m\u001b[38;5;124mxgboost\u001b[39m\u001b[38;5;124m\"\u001b[39m))\n",
      "\u001b[1;31mNameError\u001b[0m: name 'get_version' is not defined"
     ]
    }
   ],
   "source": [
    "print(\"XGBoost version: \", get_version(\"xgboost\"))\n"
   ]
  },
  {
   "cell_type": "code",
   "execution_count": 2,
   "id": "3012d55c",
   "metadata": {},
   "outputs": [
    {
     "name": "stdout",
     "output_type": "stream",
     "text": [
      "XGBoost version:  None\n"
     ]
    }
   ],
   "source": [
    "import pkg_resources\n",
    "\n",
    "def get_version(package):\n",
    "    try:\n",
    "        return pkg_resources.get_distribution(package).version\n",
    "    except pkg_resources.DistributionNotFound:\n",
    "        return None\n",
    "\n",
    "print(\"XGBoost version: \", get_version(\"xgboost\"))\n"
   ]
  },
  {
   "cell_type": "code",
   "execution_count": null,
   "id": "d6377a13",
   "metadata": {},
   "outputs": [],
   "source": []
  }
 ],
 "metadata": {
  "kernelspec": {
   "display_name": "Python 3 (ipykernel)",
   "language": "python",
   "name": "python3"
  },
  "language_info": {
   "codemirror_mode": {
    "name": "ipython",
    "version": 3
   },
   "file_extension": ".py",
   "mimetype": "text/x-python",
   "name": "python",
   "nbconvert_exporter": "python",
   "pygments_lexer": "ipython3",
   "version": "3.11.3"
  }
 },
 "nbformat": 4,
 "nbformat_minor": 5
}
